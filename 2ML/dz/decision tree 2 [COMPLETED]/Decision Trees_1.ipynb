{
 "cells": [
  {
   "cell_type": "code",
   "execution_count": 6,
   "metadata": {
    "id": "y3DiadTG-ru-"
   },
   "outputs": [],
   "source": [
    "import pandas as pd\n",
    "import numpy as np\n",
    "from matplotlib import pyplot as plt\n",
    "import seaborn as sns\n",
    "import plotly.express as px"
   ]
  },
  {
   "cell_type": "markdown",
   "metadata": {
    "id": "-QpBS-Nd-fAO"
   },
   "source": [
    "# Домашняя работа: деревья решений"
   ]
  },
  {
   "cell_type": "markdown",
   "metadata": {
    "id": "1ZVCYFgU-5Tw"
   },
   "source": [
    "В этой домашней работе вам предстоит научиться предсказывать цены товаров из маркетплейса Azamon.\n",
    "\n",
    "Требования к домашней работе:\n",
    "- Во всех графиках должны быть подписи через title, legend, etc.\n",
    "- Во время обучения моделей проверяйте, что у вас не текут данные. Обычно это позитивно влияет на качество модели на тесте, но негативно влияет на оценку 🌚\n",
    "- Если вы сдаете работу в Google Colaboratory, убедитесь, что ваша тетрадка доступна по ссылке.\n",
    "- Использование мемов допускается, но необходимо соблюдать меру. Несодержательная работа, состоящая только из мемов, получает 0 баллов."
   ]
  },
  {
   "cell_type": "markdown",
   "metadata": {
    "id": "JyTAlXb8CbXk"
   },
   "source": [
    "# Загрузка и подготовка данных"
   ]
  },
  {
   "cell_type": "code",
   "execution_count": 44,
   "metadata": {},
   "outputs": [],
   "source": [
    "df = pd.read_csv('amazon_co-ecommerce_sample.csv').drop(columns=[\n",
    "    'product_name',\n",
    "    'index',\n",
    "    'uniq_id',\n",
    "    'customers_who_bought_this_item_also_bought',\n",
    "    'items_customers_buy_after_viewing_this_item',\n",
    "    'sellers',\n",
    "    'description', # text\n",
    "    'product_information', # text\n",
    "    'product_description', # text\n",
    "    'customer_questions_and_answers', # text\n",
    "    'customer_reviews', # text\n",
    "])"
   ]
  },
  {
   "cell_type": "code",
   "execution_count": 45,
   "metadata": {
    "scrolled": true
   },
   "outputs": [
    {
     "data": {
      "text/plain": [
       "manufacturer                         object\n",
       "price                                object\n",
       "number_available_in_stock            object\n",
       "number_of_reviews                    object\n",
       "number_of_answered_questions        float64\n",
       "average_review_rating                object\n",
       "amazon_category_and_sub_category     object\n",
       "dtype: object"
      ]
     },
     "execution_count": 45,
     "metadata": {},
     "output_type": "execute_result"
    }
   ],
   "source": [
    "df.dtypes"
   ]
  },
  {
   "cell_type": "markdown",
   "metadata": {},
   "source": [
    "- manufacturer - Производитель\n",
    "- price - Цена\n",
    "- number_available_in_stock - Количество товара в наличии на складе\n",
    "- number_of_reviews - Количество отзывов\n",
    "- number_of_answered_questions - Количество ответов на вопросы\n",
    "- average_review_rating - Средний рейтинг отзывов\n",
    "- amazon_category_and_sub_category - категория и подкатегория амазон"
   ]
  },
  {
   "cell_type": "markdown",
   "metadata": {
    "id": "O59k78A8C_yP"
   },
   "source": [
    "## Очистка данных (1 балл)\n",
    "\n",
    "Посмотрите на признаки. Есть ли в них пропуски? Какое соотношение между NaN'ами и общим количеством данных? \n",
    " - **Есть ли смысл выкидывать какие-либо данные из этого датасета?**\n",
    " \n",
    "    Можно выкинуть строки, где не указана цена"
   ]
  },
  {
   "cell_type": "code",
   "execution_count": 46,
   "metadata": {
    "scrolled": true
   },
   "outputs": [
    {
     "data": {
      "text/html": [
       "<div>\n",
       "<style scoped>\n",
       "    .dataframe tbody tr th:only-of-type {\n",
       "        vertical-align: middle;\n",
       "    }\n",
       "\n",
       "    .dataframe tbody tr th {\n",
       "        vertical-align: top;\n",
       "    }\n",
       "\n",
       "    .dataframe thead th {\n",
       "        text-align: right;\n",
       "    }\n",
       "</style>\n",
       "<table border=\"1\" class=\"dataframe\">\n",
       "  <thead>\n",
       "    <tr style=\"text-align: right;\">\n",
       "      <th></th>\n",
       "      <th>manufacturer</th>\n",
       "      <th>price</th>\n",
       "      <th>number_available_in_stock</th>\n",
       "      <th>number_of_reviews</th>\n",
       "      <th>number_of_answered_questions</th>\n",
       "      <th>average_review_rating</th>\n",
       "      <th>amazon_category_and_sub_category</th>\n",
       "    </tr>\n",
       "  </thead>\n",
       "  <tbody>\n",
       "    <tr>\n",
       "      <th>0</th>\n",
       "      <td>Hornby</td>\n",
       "      <td>£3.42</td>\n",
       "      <td>5 new</td>\n",
       "      <td>15</td>\n",
       "      <td>1.0</td>\n",
       "      <td>4.9 out of 5 stars</td>\n",
       "      <td>Hobbies &gt; Model Trains &amp; Railway Sets &gt; Rail V...</td>\n",
       "    </tr>\n",
       "    <tr>\n",
       "      <th>1</th>\n",
       "      <td>FunkyBuys</td>\n",
       "      <td>£16.99</td>\n",
       "      <td>NaN</td>\n",
       "      <td>2</td>\n",
       "      <td>1.0</td>\n",
       "      <td>4.5 out of 5 stars</td>\n",
       "      <td>Hobbies &gt; Model Trains &amp; Railway Sets &gt; Rail V...</td>\n",
       "    </tr>\n",
       "    <tr>\n",
       "      <th>2</th>\n",
       "      <td>ccf</td>\n",
       "      <td>£9.99</td>\n",
       "      <td>2 new</td>\n",
       "      <td>17</td>\n",
       "      <td>2.0</td>\n",
       "      <td>3.9 out of 5 stars</td>\n",
       "      <td>Hobbies &gt; Model Trains &amp; Railway Sets &gt; Rail V...</td>\n",
       "    </tr>\n",
       "    <tr>\n",
       "      <th>3</th>\n",
       "      <td>Hornby</td>\n",
       "      <td>£39.99</td>\n",
       "      <td>NaN</td>\n",
       "      <td>1</td>\n",
       "      <td>2.0</td>\n",
       "      <td>5.0 out of 5 stars</td>\n",
       "      <td>Hobbies &gt; Model Trains &amp; Railway Sets &gt; Rail V...</td>\n",
       "    </tr>\n",
       "    <tr>\n",
       "      <th>4</th>\n",
       "      <td>Hornby</td>\n",
       "      <td>£32.19</td>\n",
       "      <td>NaN</td>\n",
       "      <td>3</td>\n",
       "      <td>2.0</td>\n",
       "      <td>4.7 out of 5 stars</td>\n",
       "      <td>Hobbies &gt; Model Trains &amp; Railway Sets &gt; Rail V...</td>\n",
       "    </tr>\n",
       "  </tbody>\n",
       "</table>\n",
       "</div>"
      ],
      "text/plain": [
       "  manufacturer   price number_available_in_stock number_of_reviews  \\\n",
       "0       Hornby   £3.42                     5 new                15   \n",
       "1    FunkyBuys  £16.99                       NaN                 2   \n",
       "2          ccf   £9.99                     2 new                17   \n",
       "3       Hornby  £39.99                       NaN                 1   \n",
       "4       Hornby  £32.19                       NaN                 3   \n",
       "\n",
       "   number_of_answered_questions average_review_rating  \\\n",
       "0                           1.0    4.9 out of 5 stars   \n",
       "1                           1.0    4.5 out of 5 stars   \n",
       "2                           2.0    3.9 out of 5 stars   \n",
       "3                           2.0    5.0 out of 5 stars   \n",
       "4                           2.0    4.7 out of 5 stars   \n",
       "\n",
       "                    amazon_category_and_sub_category  \n",
       "0  Hobbies > Model Trains & Railway Sets > Rail V...  \n",
       "1  Hobbies > Model Trains & Railway Sets > Rail V...  \n",
       "2  Hobbies > Model Trains & Railway Sets > Rail V...  \n",
       "3  Hobbies > Model Trains & Railway Sets > Rail V...  \n",
       "4  Hobbies > Model Trains & Railway Sets > Rail V...  "
      ]
     },
     "execution_count": 46,
     "metadata": {},
     "output_type": "execute_result"
    }
   ],
   "source": [
    "df.head()"
   ]
  },
  {
   "cell_type": "code",
   "execution_count": 47,
   "metadata": {},
   "outputs": [
    {
     "data": {
      "text/plain": [
       "(10000, 7)"
      ]
     },
     "execution_count": 47,
     "metadata": {},
     "output_type": "execute_result"
    }
   ],
   "source": [
    "df.shape"
   ]
  },
  {
   "cell_type": "code",
   "execution_count": 48,
   "metadata": {
    "scrolled": false
   },
   "outputs": [
    {
     "data": {
      "text/plain": [
       "manufacturer                        0.0007\n",
       "price                               0.1435\n",
       "number_available_in_stock           0.2500\n",
       "number_of_reviews                   0.0018\n",
       "number_of_answered_questions        0.0765\n",
       "average_review_rating               0.0018\n",
       "amazon_category_and_sub_category    0.0690\n",
       "dtype: float64"
      ]
     },
     "execution_count": 48,
     "metadata": {},
     "output_type": "execute_result"
    }
   ],
   "source": [
    "df.isnull().sum()/df.shape[0]"
   ]
  },
  {
   "cell_type": "code",
   "execution_count": 49,
   "metadata": {},
   "outputs": [
    {
     "data": {
      "text/plain": [
       "manufacturer                        0.000584\n",
       "price                               0.000000\n",
       "number_available_in_stock           0.260245\n",
       "number_of_reviews                   0.001751\n",
       "number_of_answered_questions        0.078692\n",
       "average_review_rating               0.001751\n",
       "amazon_category_and_sub_category    0.064448\n",
       "dtype: float64"
      ]
     },
     "execution_count": 49,
     "metadata": {},
     "output_type": "execute_result"
    }
   ],
   "source": [
    "df = df[df[\"price\"].notnull()]\n",
    "df.isnull().sum()/df.shape[0]"
   ]
  },
  {
   "cell_type": "markdown",
   "metadata": {},
   "source": [
    "## Подготовка данных (3 балла)\n",
    "\n",
    "Обработайте признаки. Выполните кодирование категориальных признаков, заполните пропуски в числовых признаках. Обратите внимание, что в датасете есть признак, который разбивается на несколько подпризнаков. \n",
    "**Что это за признак? Закодируйте и его.**\n",
    "amazon_category_and_sub_category и number_available_in_stock\n",
    "\n",
    "Дополнительные вопросы (+ 1 балл):\n",
    "- **Какие из признаков в этом датасете лучше кодировать через ordinal encoding?**\n",
    "    Никакие.\n",
    "- **Какие из признаков допустимо кодировать через one-hot?**\n",
    "    amazon_category_and_sub_category, status(чуть ниже мы его добавим), manufacturer (но не все)\n",
    "\n",
    "Прим.: суммарно за эту секцию можно получить до 4 баллов."
   ]
  },
  {
   "cell_type": "code",
   "execution_count": 50,
   "metadata": {},
   "outputs": [],
   "source": [
    "values = {\"number_available_in_stock\": \"0\\xa0other_status\", \n",
    "          \"number_of_reviews\": 0, \n",
    "          \"number_of_answered_questions\": 0, \n",
    "          \"average_review_rating\": 0,\n",
    "          \"manufacturer\": \"Unknown\",\n",
    "          \"amazon_category_and_sub_category\": \"other_category\"}\n",
    "df.fillna(value=values, inplace=True)\n",
    "\n",
    "df[\"price\"] = df[\"price\"].apply(lambda w: str(w).replace(\",\",\"\"))\n",
    "df[\"price\"] = df[\"price\"].apply(lambda w: str(w).replace(\"£\",\"\"))\n",
    "df[\"price\"] = df[\"price\"].apply(lambda w: (float(w[w.find('-')+1:])+float(w[:w.find('-')]))/2 if w.find('-')!=-1 else w)\n",
    "\n",
    "df[\"number_of_reviews\"] = df[\"number_of_reviews\"].apply(lambda w: str(w).replace(\",\",\"\"))\n",
    "\n",
    "df[\"average_review_rating\"] = df[\"average_review_rating\"].apply(lambda w: str(w).replace(\"out of 5 stars\",\"\"))\n",
    "\n",
    "df[['number_available_in_stock', 'status']] = df[\"number_available_in_stock\"].str.split('\\xa0', expand = True)"
   ]
  },
  {
   "cell_type": "code",
   "execution_count": 51,
   "metadata": {},
   "outputs": [
    {
     "data": {
      "text/plain": [
       "manufacturer                        0\n",
       "price                               0\n",
       "number_available_in_stock           0\n",
       "number_of_reviews                   0\n",
       "number_of_answered_questions        0\n",
       "average_review_rating               0\n",
       "amazon_category_and_sub_category    0\n",
       "status                              0\n",
       "dtype: int64"
      ]
     },
     "execution_count": 51,
     "metadata": {},
     "output_type": "execute_result"
    }
   ],
   "source": [
    "df.isnull().sum()"
   ]
  },
  {
   "cell_type": "markdown",
   "metadata": {},
   "source": [
    "Приведём типы"
   ]
  },
  {
   "cell_type": "code",
   "execution_count": 52,
   "metadata": {
    "scrolled": true
   },
   "outputs": [
    {
     "data": {
      "text/plain": [
       "manufacturer                         object\n",
       "price                               float64\n",
       "number_available_in_stock             int64\n",
       "number_of_reviews                     int64\n",
       "number_of_answered_questions          int64\n",
       "average_review_rating               float64\n",
       "amazon_category_and_sub_category     object\n",
       "status                               object\n",
       "dtype: object"
      ]
     },
     "execution_count": 52,
     "metadata": {},
     "output_type": "execute_result"
    }
   ],
   "source": [
    "columns = {\"average_review_rating\":\"float64\", \n",
    "           \"price\":\"float64\",\n",
    "          }\n",
    "df = df.astype(columns)\n",
    "df[\"number_available_in_stock\"] = df[\"number_available_in_stock\"].apply(lambda w: int(w))\n",
    "df[\"number_of_reviews\"] = df[\"number_of_reviews\"].apply(lambda w: int(w))\n",
    "df[\"number_of_answered_questions\"] = df[\"number_of_answered_questions\"].apply(lambda w: int(w))\n",
    "\n",
    "df.dtypes"
   ]
  },
  {
   "cell_type": "markdown",
   "metadata": {},
   "source": [
    "Разобьем amazon_category_and_sub_category на несколько подпризнаков"
   ]
  },
  {
   "cell_type": "code",
   "execution_count": 53,
   "metadata": {},
   "outputs": [],
   "source": [
    "df[['catalog', 'category', 'subcategory', 'items', 'main_item']] = df[\"amazon_category_and_sub_category\"].str.split('>', expand = True)"
   ]
  },
  {
   "cell_type": "code",
   "execution_count": 54,
   "metadata": {},
   "outputs": [
    {
     "data": {
      "text/plain": [
       "manufacturer                     object\n",
       "price                           float64\n",
       "number_available_in_stock         int64\n",
       "number_of_reviews                 int64\n",
       "number_of_answered_questions      int64\n",
       "average_review_rating           float64\n",
       "status                           object\n",
       "catalog                          object\n",
       "category                         object\n",
       "subcategory                      object\n",
       "items                            object\n",
       "main_item                        object\n",
       "dtype: object"
      ]
     },
     "execution_count": 54,
     "metadata": {},
     "output_type": "execute_result"
    }
   ],
   "source": [
    "df.drop(columns=\"amazon_category_and_sub_category\", inplace = True)\n",
    "df.dtypes"
   ]
  },
  {
   "cell_type": "markdown",
   "metadata": {},
   "source": [
    "Очень много различных производителей, оставим в df только тех производителей, у которых больше 30 товаров."
   ]
  },
  {
   "cell_type": "code",
   "execution_count": 55,
   "metadata": {},
   "outputs": [],
   "source": [
    "manufactur = df[\"manufacturer\"].value_counts()[df[\"manufacturer\"].value_counts() > 25].index\n",
    "df[\"manufacturer\"] = df[\"manufacturer\"].apply(lambda w: w if w in manufactur else 'Unknown')"
   ]
  },
  {
   "cell_type": "markdown",
   "metadata": {},
   "source": [
    "One hot encoding"
   ]
  },
  {
   "cell_type": "code",
   "execution_count": 56,
   "metadata": {},
   "outputs": [],
   "source": [
    "category = [\"manufacturer\",\"status\", \"catalog\", \"category\", \"subcategory\" ,\"items\", \"main_item\"]\n",
    "\n",
    "dummy = pd.get_dummies(df[category])\n",
    "df = df.drop(columns=category, axis = 1)\n",
    "df = df.join(dummy)"
   ]
  },
  {
   "cell_type": "code",
   "execution_count": 57,
   "metadata": {},
   "outputs": [
    {
     "data": {
      "text/plain": [
       "(8565, 405)"
      ]
     },
     "execution_count": 57,
     "metadata": {},
     "output_type": "execute_result"
    }
   ],
   "source": [
    "df.shape"
   ]
  },
  {
   "cell_type": "code",
   "execution_count": 58,
   "metadata": {},
   "outputs": [],
   "source": [
    "per3 = np.percentile(df[\"price\"], 3)\n",
    "per97 = np.percentile(df[\"price\"], 97)\n",
    "\n",
    "df = df[(df[\"price\"] > per3)&(df[\"price\"] < per97)]"
   ]
  },
  {
   "cell_type": "code",
   "execution_count": null,
   "metadata": {},
   "outputs": [],
   "source": []
  },
  {
   "cell_type": "code",
   "execution_count": 59,
   "metadata": {},
   "outputs": [],
   "source": [
    "from sklearn.model_selection import train_test_split\n",
    "\n",
    "y = df[\"price\"]\n",
    "X = df.drop(columns=[\"price\"])#, \"manufacturer\"])\n",
    "\n",
    "X_train, X_test, y_train, y_test = train_test_split(X, y, test_size=0.3, random_state=42)"
   ]
  },
  {
   "cell_type": "markdown",
   "metadata": {
    "id": "JTRoUwANEcn9"
   },
   "source": [
    "# Обучение модели (3 балла)"
   ]
  },
  {
   "cell_type": "markdown",
   "metadata": {
    "id": "AyVaKKT7FFo5"
   },
   "source": [
    "## Бейзлайн\n",
    "\n",
    "Обучите базовую модель. Для этого используйте `sklearn.dummy.DummyRegressor`. Какое качество она показывает на тесте? Посчитайте MSE, RMSE."
   ]
  },
  {
   "cell_type": "code",
   "execution_count": 61,
   "metadata": {},
   "outputs": [
    {
     "name": "stdout",
     "output_type": "stream",
     "text": [
      "Train MSE:  229.03894212951343\n",
      "Test MSE:  228.9955203878489\n",
      "\n",
      "Train RMSE:  15.134032579901282\n",
      "Test RMSE:  15.132597939146104\n"
     ]
    },
    {
     "data": {
      "text/plain": [
       "'Train MSE:  229.03894212951343\\nTest MSE:  228.9955203878489\\n\\nTrain RMSE:  15.134032579901282\\nTest RMSE:  15.132597939146104'"
      ]
     },
     "execution_count": 61,
     "metadata": {},
     "output_type": "execute_result"
    }
   ],
   "source": [
    "from sklearn.dummy import DummyRegressor\n",
    "from sklearn.metrics import mean_squared_error, r2_score\n",
    "\n",
    "model_DR = DummyRegressor()\n",
    "\n",
    "model_DR.fit(X_train, y_train)\n",
    "\n",
    "y_pred = model_DR.predict(X_train)\n",
    "y_test_pred = model_DR.predict(X_test)\n",
    "\n",
    "print(\"Train MSE: \",mean_squared_error(y_train, y_pred, squared=True))\n",
    "print(\"Test MSE: \",mean_squared_error(y_test, y_test_pred, squared=True))\n",
    "\n",
    "print(\"\\nTrain RMSE: \",mean_squared_error(y_train, y_pred, squared=False))\n",
    "print(\"Test RMSE: \",mean_squared_error(y_test, y_test_pred, squared=False))\n",
    "\n",
    "'''Train MSE:  229.03894212951343\n",
    "Test MSE:  228.9955203878489\n",
    "\n",
    "Train RMSE:  15.134032579901282\n",
    "Test RMSE:  15.132597939146104'''"
   ]
  },
  {
   "cell_type": "markdown",
   "metadata": {
    "id": "rVW-MtPgF_vE"
   },
   "source": [
    "## Дерево решений\n",
    "\n",
    "Обучите регрессионное дерево решений, проверьте качество этой модели на тестовой выборке. Улучшилось ли качество по сравнению с базовой моделью? Оцените r2_score обученной модели."
   ]
  },
  {
   "cell_type": "code",
   "execution_count": 62,
   "metadata": {},
   "outputs": [
    {
     "name": "stdout",
     "output_type": "stream",
     "text": [
      "Train r2_score:  0.8613517332700001\n",
      "Test r2_score:  -0.3874890327734115\n",
      "\n",
      "Train MSE:  31.755852339929785\n",
      "Test MSE:  317.7065119130834\n",
      "\n",
      "Train RMSE:  5.635233122057133\n",
      "Test RMSE:  17.82432360324182\n"
     ]
    }
   ],
   "source": [
    "from sklearn.tree import DecisionTreeRegressor\n",
    "\n",
    "model_decision_tree = DecisionTreeRegressor()\n",
    "\n",
    "model_decision_tree.fit(X_train, y_train)\n",
    "\n",
    "y_pred = model_decision_tree.predict(X_train)\n",
    "y_test_pred = model_decision_tree.predict(X_test)\n",
    "print(\"Train r2_score: \", r2_score(y_train, y_pred))\n",
    "print(\"Test r2_score: \", r2_score(y_test, y_test_pred))\n",
    "\n",
    "print(\"\\nTrain MSE: \",mean_squared_error(y_train, y_pred, squared=True))\n",
    "print(\"Test MSE: \",mean_squared_error(y_test, y_test_pred, squared=True))\n",
    "\n",
    "print(\"\\nTrain RMSE: \",mean_squared_error(y_train, y_pred, squared=False))\n",
    "print(\"Test RMSE: \",mean_squared_error(y_test, y_test_pred, squared=False))"
   ]
  },
  {
   "cell_type": "markdown",
   "metadata": {
    "id": "viVY_kUMG7Jv"
   },
   "source": [
    "## Линейная регрессия\n",
    "\n",
    "Попробуйте обучить линейную регрессию с параметрами по умолчанию. Оцените r2_score на тестовой выборке. Сравните качество с деревом решений. "
   ]
  },
  {
   "cell_type": "code",
   "execution_count": 63,
   "metadata": {},
   "outputs": [
    {
     "name": "stdout",
     "output_type": "stream",
     "text": [
      "Train r2_score:  0.2727324802599578\n",
      "Test r2_score:  -1.7959674709182532e+16\n",
      "\n",
      "Train MSE:  166.57258336641428\n",
      "Test MSE:  4.1123969070534804e+18\n",
      "\n",
      "Train RMSE:  12.906300142427119\n",
      "Test RMSE:  2027904560.6372802\n"
     ]
    }
   ],
   "source": [
    "from sklearn.linear_model import LinearRegression\n",
    "\n",
    "model_linear = LinearRegression()\n",
    "\n",
    "model_linear.fit(X_train, y_train)\n",
    "\n",
    "y_pred = model_linear.predict(X_train)\n",
    "y_test_pred = model_linear.predict(X_test)\n",
    "print(\"Train r2_score: \", r2_score(y_train, y_pred))\n",
    "print(\"Test r2_score: \", r2_score(y_test, y_test_pred))\n",
    "\n",
    "print(\"\\nTrain MSE: \",mean_squared_error(y_train, y_pred, squared=True))\n",
    "print(\"Test MSE: \",mean_squared_error(y_test, y_test_pred, squared=True))\n",
    "\n",
    "print(\"\\nTrain RMSE: \",mean_squared_error(y_train, y_pred, squared=False))\n",
    "print(\"Test RMSE: \",mean_squared_error(y_test, y_test_pred, squared=False))"
   ]
  },
  {
   "cell_type": "markdown",
   "metadata": {},
   "source": [
    "Чем ближе r2_score к 1 тем модель лучше, как мы видим, обученная линейная регрессия показывает очень плохие результаты"
   ]
  },
  {
   "cell_type": "markdown",
   "metadata": {
    "id": "3J71riX2Guj3"
   },
   "source": [
    "# Гиперпараметры (2 балла)\n",
    "\n",
    "Переберите несколько гиперпараметров (не более двух-трёх). Обратите внимание, как эти параметры влияют на ошибку модели на тестовой выборке. Постройте для глубины дерева график переобучения (fitting curve) аналогичный тому, что мы строили на занятии. Найдите глубину дерева, начиная с которой модель начинает переобучаться."
   ]
  },
  {
   "cell_type": "code",
   "execution_count": 64,
   "metadata": {
    "scrolled": true
   },
   "outputs": [],
   "source": [
    "from sklearn.metrics import make_scorer\n",
    "from sklearn.model_selection import GridSearchCV\n",
    "\n",
    "scoring = make_scorer(r2_score)\n",
    "g_cv = GridSearchCV(DecisionTreeRegressor(random_state=42),\n",
    "              param_grid={\"min_samples_split\": [5 ,10, 20, 40],\n",
    "                          \"max_depth\": [2, 6, 8, 10, 20, 50, 100],\n",
    "                          \"min_samples_leaf\": [20, 40, 100],\n",
    "                          \"max_leaf_nodes\": [5, 20, 100]},\n",
    "              scoring=scoring, cv=5, refit=True)\n",
    "\n",
    "g_cv.fit(X_train, y_train)\n",
    "\n",
    "result = g_cv.cv_results_"
   ]
  },
  {
   "cell_type": "code",
   "execution_count": 65,
   "metadata": {},
   "outputs": [
    {
     "name": "stdout",
     "output_type": "stream",
     "text": [
      "MSE: 194.23168628473658\n",
      "RMSE: 13.936702848404876\n",
      "r2_score:  0.1517506741854734\n",
      "\n",
      "Best Hyperparameters::\n",
      "{'max_depth': 20, 'max_leaf_nodes': 20, 'min_samples_leaf': 20, 'min_samples_split': 5}\n"
     ]
    }
   ],
   "source": [
    "print(\"MSE:\", mean_squared_error(y_test, g_cv.best_estimator_.predict(X_test), squared=True))\n",
    "print(\"RMSE:\", mean_squared_error(y_test, g_cv.best_estimator_.predict(X_test), squared=False))\n",
    "print(\"r2_score: \", r2_score(y_test, g_cv.best_estimator_.predict(X_test)))\n",
    "print(\"\\nBest Hyperparameters::\\n{}\".format(g_cv.best_params_))"
   ]
  },
  {
   "cell_type": "code",
   "execution_count": 66,
   "metadata": {
    "scrolled": true
   },
   "outputs": [
    {
     "data": {
      "text/plain": [
       "mean_fit_time              float64\n",
       "std_fit_time               float64\n",
       "mean_score_time            float64\n",
       "std_score_time             float64\n",
       "param_max_depth             object\n",
       "param_max_leaf_nodes        object\n",
       "param_min_samples_leaf      object\n",
       "param_min_samples_split     object\n",
       "params                      object\n",
       "split0_test_score          float64\n",
       "split1_test_score          float64\n",
       "split2_test_score          float64\n",
       "split3_test_score          float64\n",
       "split4_test_score          float64\n",
       "mean_test_score            float64\n",
       "std_test_score             float64\n",
       "rank_test_score              int32\n",
       "dtype: object"
      ]
     },
     "execution_count": 66,
     "metadata": {},
     "output_type": "execute_result"
    }
   ],
   "source": [
    "df = pd.DataFrame(data=result)\n",
    "df.dtypes"
   ]
  },
  {
   "cell_type": "code",
   "execution_count": 67,
   "metadata": {
    "scrolled": false
   },
   "outputs": [
    {
     "data": {
      "text/plain": [
       "Text(0.5, 1.0, 'Влияние глубины и листьев на производительность модели')"
      ]
     },
     "execution_count": 67,
     "metadata": {},
     "output_type": "execute_result"
    },
    {
     "data": {
      "image/png": "[encoded data removed]",
      "text/plain": [
       "<Figure size 1152x576 with 1 Axes>"
      ]
     },
     "metadata": {
      "needs_background": "light"
     },
     "output_type": "display_data"
    }
   ],
   "source": [
    "plt.figure(figsize=(16,8))\n",
    "seaborn.pointplot(data=df[['mean_test_score',\n",
    "                       'param_max_leaf_nodes',\n",
    "                       'param_max_depth']],\n",
    "             y='mean_test_score',x='param_max_depth',\n",
    "            hue='param_max_leaf_nodes')\n",
    "plt.title(\"Влияние глубины и листьев на производительность модели\")"
   ]
  },
  {
   "cell_type": "code",
   "execution_count": 68,
   "metadata": {},
   "outputs": [],
   "source": [
    "import seaborn as sns\n",
    "\n",
    "def plot_fitting_curve(parameter: str, values: list, score, X_train, X_test, y_train, y_test):\n",
    "    train_curve = []\n",
    "    test_curve = []\n",
    "    for value in values:\n",
    "        # инициализация объекта из словаря\n",
    "        # распаковка словаря через ** эквивалентна перечислению аргументов\n",
    "        model = DecisionTreeRegressor(**{parameter: value})\n",
    "        model.fit(X_train, y_train)\n",
    "        y_pred_train, y_pred_test = model.predict(X_train), model.predict(X_test)\n",
    "        train_curve.append(score(y_train, y_pred_train))#, average='macro'))\n",
    "        test_curve.append(score(y_test, y_pred_test))#, average='macro'))\n",
    "    sns.lineplot(x=values, y=train_curve)\n",
    "    sns.lineplot(x=values, y=test_curve)"
   ]
  },
  {
   "cell_type": "code",
   "execution_count": 69,
   "metadata": {
    "scrolled": false
   },
   "outputs": [
    {
     "data": {
      "text/plain": [
       "Text(0, 0.5, 'r2_score')"
      ]
     },
     "execution_count": 69,
     "metadata": {},
     "output_type": "execute_result"
    },
    {
     "data": {
      "image/png": "[encoded data removed]",
      "text/plain": [
       "<Figure size 1152x576 with 1 Axes>"
      ]
     },
     "metadata": {
      "needs_background": "light"
     },
     "output_type": "display_data"
    }
   ],
   "source": [
    "plt.figure(figsize=(16,8))\n",
    "plot_fitting_curve('max_depth', np.arange(1, 50), r2_score, X_train, X_test, y_train, y_test)\n",
    "\n",
    "plt.title(\"График переобучения при изменении глубины дерева\")\n",
    "plt.xlabel(\"Глубина дерева\")\n",
    "plt.ylabel(\"r2_score\")"
   ]
  },
  {
   "cell_type": "markdown",
   "metadata": {},
   "source": [
    "Если мы возьмем глубину дерева >6, то уже наше дерево переобучиться"
   ]
  },
  {
   "cell_type": "markdown",
   "metadata": {},
   "source": [
    "# Простое ансамблирование (1 балл)\n",
    "\n",
    "В этой секции мы реализуем простой ансамбль деревьев."
   ]
  },
  {
   "cell_type": "code",
   "execution_count": 70,
   "metadata": {
    "id": "Ht7wq9TqUfvZ"
   },
   "outputs": [],
   "source": [
    "class EnsembleTreeRegressor:\n",
    "    def __init__(self, num_trees=5, samples_frac=0.8, **model_kwargs):\n",
    "        self.num_trees= num_trees\n",
    "        self._samples_frac = 0.8\n",
    "        self._trees = [DecisionTreeRegressor(**model_kwargs) for _ in range(num_trees)]\n",
    "    def fit(self, x, y: pd.Series):\n",
    "        x = pd.DataFrame(x)\n",
    "        y = y.reset_index(drop=True)\n",
    "        x = x.reset_index(drop=True)\n",
    "        for tree in self._trees:\n",
    "            tree_x = x.sample(frac=self._samples_frac, random_state=42)\n",
    "            tree_y = y[tree_x.index]\n",
    "            tree.fit(tree_x, tree_y)\n",
    "        return self\n",
    "    def predict(self, x: pd.DataFrame):\n",
    "        x = pd.DataFrame(x)\n",
    "        res = []\n",
    "        for i in range(self.num_trees):\n",
    "            res.append(self._trees[i].predict(x))\n",
    "        return sum(res) / len(res)"
   ]
  },
  {
   "cell_type": "markdown",
   "metadata": {
    "id": "FCxogZPuVZCF"
   },
   "source": [
    "Проверьте, работает ли этот ансамбль лучше обычного дерева с параметрами по умолчанию?\n",
    "\n",
    "Дополнительно переберите максимальную глубину дерева. Проверьте, насколько отличается момент начала переобучения у одиночного дерева и у ансамбля. Зависит ли этот момент от числа деревьев (`num_trees`)? От числа примеров для каждого дерева (`samples_frac`)? Постройте график fitting curve."
   ]
  },
  {
   "cell_type": "code",
   "execution_count": 79,
   "metadata": {},
   "outputs": [
    {
     "name": "stdout",
     "output_type": "stream",
     "text": [
      "Train r2_score:  0.1933105843240609\n",
      "Test r2_score:  0.1571454139462669\n",
      "\n",
      "Train MSE:  184.7632903934924\n",
      "Test MSE:  192.99640160024825\n",
      "\n",
      "Train RMSE:  13.592766105303674\n",
      "Test RMSE:  13.892314479605199\n"
     ]
    }
   ],
   "source": [
    "#{'max_depth': 20, 'max_leaf_nodes': 20, 'min_samples_leaf': 20, 'min_samples_split': 5}\n",
    "\n",
    "model_ensemble_tree = EnsembleTreeRegressor(max_depth=20, max_leaf_nodes=20, min_samples_leaf=20, min_samples_split = 5, num_trees = 15)\n",
    "\n",
    "model_ensemble_tree.fit(X_train, y_train)\n",
    "\n",
    "y_pred = model_ensemble_tree.predict(X_train)\n",
    "y_test_pred = model_ensemble_tree.predict(X_test)\n",
    "\n",
    "print(\"Train r2_score: \", r2_score(y_train, y_pred))\n",
    "print(\"Test r2_score: \", r2_score(y_test, y_test_pred))\n",
    "\n",
    "print(\"\\nTrain MSE: \",mean_squared_error(y_train, y_pred, squared=True))\n",
    "print(\"Test MSE: \",mean_squared_error(y_test, y_test_pred, squared=True))\n",
    "\n",
    "print(\"\\nTrain RMSE: \",mean_squared_error(y_train, y_pred, squared=False))\n",
    "print(\"Test RMSE: \",mean_squared_error(y_test, y_test_pred, squared=False))"
   ]
  },
  {
   "cell_type": "markdown",
   "metadata": {},
   "source": [
    "Да, этот ансамбль работает чуть лучше на тестовой выборке обычного дерева с параметрами по умолчанию.\n"
   ]
  },
  {
   "cell_type": "code",
   "execution_count": 74,
   "metadata": {},
   "outputs": [],
   "source": [
    "def plot_fitting_curve(parameter: str, values: list, score, X_train, X_test, y_train, y_test):\n",
    "    train_curve = []\n",
    "    test_curve = []\n",
    "    for value in values:\n",
    "        # инициализация объекта из словаря\n",
    "        # распаковка словаря через ** эквивалентна перечислению аргументов\n",
    "        model = EnsembleTreeRegressor(**{parameter: value})\n",
    "        model.fit(X_train, y_train)\n",
    "        y_pred_train, y_pred_test = model.predict(X_train), model.predict(X_test)\n",
    "        train_curve.append(score(y_train, y_pred_train))#, average='macro'))\n",
    "        test_curve.append(score(y_test, y_pred_test))#, average='macro'))\n",
    "    sns.lineplot(x=values, y=train_curve)\n",
    "    sns.lineplot(x=values, y=test_curve)"
   ]
  },
  {
   "cell_type": "code",
   "execution_count": 75,
   "metadata": {},
   "outputs": [
    {
     "data": {
      "text/plain": [
       "Text(0, 0.5, 'r2_score')"
      ]
     },
     "execution_count": 75,
     "metadata": {},
     "output_type": "execute_result"
    },
    {
     "data": {
      "image/png": "[encoded data removed]",
      "text/plain": [
       "<Figure size 1152x576 with 1 Axes>"
      ]
     },
     "metadata": {
      "needs_background": "light"
     },
     "output_type": "display_data"
    }
   ],
   "source": [
    "plt.figure(figsize=(16,8))\n",
    "plot_fitting_curve('max_depth', np.arange(1, 25), r2_score, X_train, X_test, y_train, y_test)\n",
    "\n",
    "plt.title(\"График переобучения при изменении глубины дерева\")\n",
    "plt.xlabel(\"Глубина дерева в ансамбле\")\n",
    "plt.ylabel(\"r2_score\")"
   ]
  },
  {
   "cell_type": "code",
   "execution_count": 77,
   "metadata": {},
   "outputs": [
    {
     "data": {
      "text/plain": [
       "Text(0, 0.5, 'r2_score')"
      ]
     },
     "execution_count": 77,
     "metadata": {},
     "output_type": "execute_result"
    },
    {
     "data": {
      "image/png": "[encoded data removed]",
      "text/plain": [
       "<Figure size 1152x576 with 1 Axes>"
      ]
     },
     "metadata": {
      "needs_background": "light"
     },
     "output_type": "display_data"
    }
   ],
   "source": [
    "plt.figure(figsize=(16,8))\n",
    "plot_fitting_curve('num_trees', np.arange(1, 25), r2_score, X_train, X_test, y_train, y_test)\n",
    "\n",
    "plt.title(\"График переобучения при изменении числа деревьев\")\n",
    "plt.xlabel(\"Кол-во деревьев\")\n",
    "plt.ylabel(\"r2_score\")"
   ]
  },
  {
   "cell_type": "code",
   "execution_count": 78,
   "metadata": {},
   "outputs": [
    {
     "data": {
      "text/plain": [
       "Text(0, 0.5, 'r2_score')"
      ]
     },
     "execution_count": 78,
     "metadata": {},
     "output_type": "execute_result"
    },
    {
     "data": {
      "image/png": "[encoded data removed]",
      "text/plain": [
       "<Figure size 1152x576 with 1 Axes>"
      ]
     },
     "metadata": {
      "needs_background": "light"
     },
     "output_type": "display_data"
    }
   ],
   "source": [
    "plt.figure(figsize=(16,8))\n",
    "plot_fitting_curve('samples_frac', np.arange(1, 10, 0.1), r2_score, X_train, X_test, y_train, y_test)\n",
    "\n",
    "plt.title(\"График переобучения при изменении samples_frac\")\n",
    "plt.xlabel(\"samples_frac\")\n",
    "plt.ylabel(\"r2_score\")"
   ]
  },
  {
   "cell_type": "code",
   "execution_count": 85,
   "metadata": {},
   "outputs": [
    {
     "name": "stdout",
     "output_type": "stream",
     "text": [
      "Learning rate set to 0.0538\n",
      "0:\tlearn: 15.0522803\ttotal: 3.38ms\tremaining: 3.38s\n",
      "50:\tlearn: 13.8574201\ttotal: 161ms\tremaining: 3s\n",
      "100:\tlearn: 13.5354175\ttotal: 337ms\tremaining: 3s\n",
      "150:\tlearn: 13.3489060\ttotal: 503ms\tremaining: 2.83s\n",
      "200:\tlearn: 13.1263635\ttotal: 690ms\tremaining: 2.74s\n",
      "250:\tlearn: 12.9274603\ttotal: 868ms\tremaining: 2.59s\n",
      "300:\tlearn: 12.7578556\ttotal: 1.06s\tremaining: 2.45s\n",
      "350:\tlearn: 12.6184171\ttotal: 1.24s\tremaining: 2.3s\n",
      "400:\tlearn: 12.4585180\ttotal: 1.45s\tremaining: 2.17s\n",
      "450:\tlearn: 12.3202028\ttotal: 1.63s\tremaining: 1.99s\n",
      "500:\tlearn: 12.1946938\ttotal: 1.83s\tremaining: 1.82s\n",
      "550:\tlearn: 12.0799745\ttotal: 2.01s\tremaining: 1.64s\n",
      "600:\tlearn: 11.9736975\ttotal: 2.2s\tremaining: 1.46s\n",
      "650:\tlearn: 11.8790755\ttotal: 2.38s\tremaining: 1.28s\n",
      "700:\tlearn: 11.7801867\ttotal: 2.57s\tremaining: 1.1s\n",
      "750:\tlearn: 11.6934368\ttotal: 2.79s\tremaining: 924ms\n",
      "800:\tlearn: 11.6092049\ttotal: 3.03s\tremaining: 754ms\n",
      "850:\tlearn: 11.5199854\ttotal: 3.28s\tremaining: 575ms\n",
      "900:\tlearn: 11.4387922\ttotal: 3.52s\tremaining: 387ms\n",
      "950:\tlearn: 11.3620074\ttotal: 3.77s\tremaining: 194ms\n",
      "999:\tlearn: 11.2932103\ttotal: 4.06s\tremaining: 0us\n",
      "Train r2_score:  0.44316631591656486\n",
      "Test r2_score:  0.22380450409701347\n",
      "\n",
      "Train MSE:  127.53659794454965\n",
      "Test MSE:  177.73283805570523\n",
      "\n",
      "Train RMSE:  11.29321025858235\n",
      "Test RMSE:  13.331647987240933\n"
     ]
    }
   ],
   "source": [
    "from catboost import CatBoostRegressor\n",
    "\n",
    "catboosting = CatBoostRegressor(random_state=42, metric_period=50, )\n",
    "catboosting.fit(X_train, y_train)\n",
    "\n",
    "y_test_pred = catboosting.predict(X_test)\n",
    "\n",
    "y_pred = catboosting.predict(X_train)\n",
    "\n",
    "print(\"Train r2_score: \", r2_score(y_train, y_pred))\n",
    "print(\"Test r2_score: \", r2_score(y_test, y_test_pred))\n",
    "\n",
    "print(\"\\nTrain MSE: \",mean_squared_error(y_train, y_pred, squared=True))\n",
    "print(\"Test MSE: \",mean_squared_error(y_test, y_test_pred, squared=True))\n",
    "\n",
    "print(\"\\nTrain RMSE: \",mean_squared_error(y_train, y_pred, squared=False))\n",
    "print(\"Test RMSE: \",mean_squared_error(y_test, y_test_pred, squared=False))"
   ]
  },
  {
   "cell_type": "code",
   "execution_count": 91,
   "metadata": {},
   "outputs": [
    {
     "data": {
      "text/plain": [
       "932     17.95\n",
       "1889     3.50\n",
       "8720     9.93\n",
       "8856     4.49\n",
       "3520     6.87\n",
       "        ...  \n",
       "3903    29.77\n",
       "2670    14.50\n",
       "8409    48.80\n",
       "5470    19.99\n",
       "6367    52.61\n",
       "Name: price, Length: 2415, dtype: float64"
      ]
     },
     "execution_count": 91,
     "metadata": {},
     "output_type": "execute_result"
    }
   ],
   "source": [
    "y_test"
   ]
  },
  {
   "cell_type": "code",
   "execution_count": 92,
   "metadata": {},
   "outputs": [
    {
     "data": {
      "text/plain": [
       "array([18.86041889,  8.21786818,  9.37997304, ..., 19.56424318,\n",
       "       17.63933438, 20.31465278])"
      ]
     },
     "execution_count": 92,
     "metadata": {},
     "output_type": "execute_result"
    }
   ],
   "source": [
    "y_test_pred"
   ]
  },
  {
   "cell_type": "code",
   "execution_count": 31,
   "metadata": {},
   "outputs": [
    {
     "data": {
      "text/plain": [
       "Text(0.5, 1.0, 'Поиск')"
      ]
     },
     "execution_count": 31,
     "metadata": {},
     "output_type": "execute_result"
    },
    {
     "data": {
      "image/png": "[encoded data removed]",
      "text/plain": [
       "<Figure size 1850.4x955.44 with 1 Axes>"
      ]
     },
     "metadata": {},
     "output_type": "display_data"
    }
   ],
   "source": [
    "data = {\"PATRICIA\": [0, 0, 2, 25, 300, 25000], \"std::map\": [0, 1, 7, 94, 975, 86000]}\n",
    "\n",
    "\n",
    "df = pd.DataFrame(data, index = [1, 10, 100, 1000, 10000, 100000])\n",
    "sns.set(rc={'figure.figsize':(25.7,13.27)})\n",
    "\n",
    "g = sns.lineplot(data=df)\n",
    "#g.set(xscale = \"log\")\n",
    "plt.xlabel(\"Количество данных\")\n",
    "plt.ylabel(\"Микросекунды\")\n",
    "plt.title(\"Поиск\")"
   ]
  },
  {
   "cell_type": "code",
   "execution_count": null,
   "metadata": {},
   "outputs": [],
   "source": []
  }
 ],
 "metadata": {
  "colab": {
   "provenance": []
  },
  "gpuClass": "standard",
  "kernelspec": {
   "display_name": "Python 3 (ipykernel)",
   "language": "python",
   "name": "python3"
  },
  "language_info": {
   "codemirror_mode": {
    "name": "ipython",
    "version": 3
   },
   "file_extension": ".py",
   "mimetype": "text/x-python",
   "name": "python",
   "nbconvert_exporter": "python",
   "pygments_lexer": "ipython3",
   "version": "3.9.7"
  },
  "vscode": {
   "interpreter": {
    "hash": "e4cce46d6be9934fbd27f9ca0432556941ea5bdf741d4f4d64c6cd7f8dfa8fba"
   }
  }
 },
 "nbformat": 4,
 "nbformat_minor": 1
}
