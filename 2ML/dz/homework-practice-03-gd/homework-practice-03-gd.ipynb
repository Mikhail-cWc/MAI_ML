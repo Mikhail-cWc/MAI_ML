{
 "cells": [
  {
   "cell_type": "markdown",
   "metadata": {
    "pycharm": {
     "name": "#%% md\n"
    }
   },
   "source": [
    "# Машинное обучение, ФКН ВШЭ\n",
    "\n",
    "## Практическое задание 3. Градиентный спуск своими руками\n",
    "\n",
    "### Общая информация\n",
    "Дата выдачи: **12.10.2022**\n",
    "\n",
    "Мягкий дедлайн: **1.11.22 23:59** (за каждый день просрочки снимается 1 балл)\n",
    "\n",
    "Жесткий дедлайн: **8.11.22 23:59**"
   ]
  },
  {
   "cell_type": "markdown",
   "metadata": {
    "pycharm": {
     "name": "#%% md\n"
    }
   },
   "source": [
    "Напомним, что на лекциях и семинарах мы разбирали некоторые подходы к оптимизации функционалов по параметрам. В частности, был рассмотрен градиентный спуск и различные подходы к его реализации — полный градиентный спуск, стохастический градиентный спуск, метод импульса и другие. В качестве модели у нас будет выступать линейная регрессия.\n",
    "\n",
    "В этом домашнем задании вам предстоит реализовать 4 различных вариации градиентного спуска, написать свою реализацию линейной регресии, сравнить методы градиентного спуска между собой на реальных данных и ещё много чего веселого и интересного!"
   ]
  },
  {
   "cell_type": "code",
   "execution_count": 1,
   "metadata": {},
   "outputs": [],
   "source": [
    "from dataclasses import dataclass\n",
    "from enum import auto\n",
    "from enum import Enum\n",
    "from typing import Dict\n",
    "from typing import Type\n",
    "import pandas as pd\n",
    "import numpy as np\n",
    "\n",
    "\n",
    "@dataclass\n",
    "class LearningRate:\n",
    "    lambda_: float = 1e-3\n",
    "    s0: float = 1\n",
    "    p: float = 0.5\n",
    "\n",
    "    iteration: int = 0\n",
    "\n",
    "    def __call__(self):\n",
    "        \"\"\"\n",
    "        Calculate learning rate according to lambda (s0/(s0 + t))^p formula\n",
    "        \"\"\"\n",
    "        self.iteration += 1\n",
    "        return self.lambda_ * (self.s0 / (self.s0 + self.iteration)) ** self.p\n",
    "\n",
    "\n",
    "class LossFunction(Enum):\n",
    "    MSE = auto()\n",
    "    MAE = auto()\n",
    "    LogCosh = auto()\n",
    "    Huber = auto()\n"
   ]
  },
  {
   "cell_type": "markdown",
   "metadata": {
    "pycharm": {
     "name": "#%% md\n"
    }
   },
   "source": [
    "## Задание 1. Реализация градиентного спуска (3.5 балла)\n",
    "\n",
    "В этом задании вам предстоит написать собственные реализации различных подходов к градиентному спуску с опорой на подготовленные шаблоны в файле `descents.py`.\n",
    "\n",
    "**Все реализуемые методы должны быть векторизованы!**"
   ]
  },
  {
   "cell_type": "markdown",
   "metadata": {
    "pycharm": {
     "name": "#%% md\n"
    }
   },
   "source": [
    "### Лирическое-теоретическое отступление № 1\n",
    "\n",
    "Основное свойство антиградиента &ndash; он указывает в сторону наискорейшего убывания функции в данной точке. Соответственно, будет логично стартовать из некоторой точки, сдвинуться в сторону антиградиента,\n",
    "пересчитать антиградиент и снова сдвинуться в его сторону и т.д. Запишем это более формально.\n",
    "\n",
    "Пусть $w_0$ &ndash; начальный набор параметров (например, нулевой или сгенерированный из некоторого\n",
    "случайного распределения). Тогда ванильный градиентный спуск состоит в повторении следующих шагов до сходимости:\n",
    "\n",
    "$$\n",
    "    w_{k + 1} = w_{k} - \\eta_{k} \\nabla_{w} Q(w_{k}).\n",
    "$$"
   ]
  },
  {
   "cell_type": "markdown",
   "metadata": {
    "pycharm": {
     "name": "#%% md\n"
    }
   },
   "source": [
    "### Лирическое-теоретическое отступление № 2\n",
    "\n",
    "На семинаре про [матрично-векторное дифференцирование](https://github.com/esokolov/ml-course-hse/blob/master/2022-fall/seminars/sem03-vector-diff.pdf) вы должны были обсуждать дифференцирование функции потерь MSE в матричном виде.\n",
    "\n",
    "### Задание 1.0. Градиент MSE в матричном виде (0 баллов).\n",
    "\n",
    "Напомним, что функция потерь MSE записывается в матричном виде как:\n",
    "\n",
    "$$\n",
    "    Q(w) = \\dfrac{1}{\\ell} \\left( y - Xw \\right)^T \\left( y - Xw \\right)\n",
    "$$\n",
    "\n",
    "Выпишите ниже (подсмотрев в семинар или решив самостоятельно) градиент для функции потерь MSE в матричном виде."
   ]
  },
  {
   "cell_type": "markdown",
   "metadata": {
    "pycharm": {
     "name": "#%% md\n"
    }
   },
   "source": [
    "`### ваше решение тут ###`"
   ]
  },
  {
   "cell_type": "markdown",
   "metadata": {
    "pycharm": {
     "name": "#%% md\n"
    }
   },
   "source": [
    "### Задание 1.1. Родительский класс BaseDescent (0.5 балла).\n",
    "\n",
    "Реализуйте функции `calc_loss` (вычисление MSE для переданных $x$ и $y$) и `predict` (предсказание $y_{pred}$ для переданных $x$) в классе `BaseDescent`.\n",
    "\n",
    "Все вычисления должны быть векторизованы."
   ]
  },
  {
   "cell_type": "code",
   "execution_count": 2,
   "metadata": {},
   "outputs": [],
   "source": [
    "class BaseDescent:\n",
    "    \"\"\"\n",
    "    A base class and templates for all functions\n",
    "    \"\"\"\n",
    "\n",
    "    def __init__(self, dimension: int, lambda_: float = 1e-3, loss_function: LossFunction = LossFunction.MSE):\n",
    "        \"\"\"\n",
    "        :param dimension: feature space dimension\n",
    "        :param lambda_: learning rate parameter\n",
    "        :param loss_function: optimized loss function\n",
    "        \"\"\"\n",
    "        self.w: np.ndarray = np.random.rand(dimension) # Веса\n",
    "        self.lr: LearningRate = LearningRate(lambda_=lambda_)\n",
    "        self.loss_function: LossFunction = loss_function\n",
    "        self.k = 0\n",
    "\n",
    "    def step(self, x: np.ndarray, y: np.ndarray) -> np.ndarray:\n",
    "        return self.update_weights(self.calc_gradient(x, y))\n",
    "\n",
    "    def update_weights(self, gradient: np.ndarray) -> np.ndarray:\n",
    "        \"\"\"\n",
    "        Template for update_weights function\n",
    "        Update weights with respect to gradient\n",
    "        :param gradient: gradient\n",
    "        :return: weight difference (w_{k + 1} - w_k): np.ndarray\n",
    "        \"\"\"\n",
    "        temp_w = self.w\n",
    "        self.w = temp_w - self.lr.lambda_*gradient\n",
    "        return self.w - temp_w\n",
    "\n",
    "    def calc_gradient(self, x: np.ndarray, y: np.ndarray) -> np.ndarray:\n",
    "        \"\"\"\n",
    "        Template for calc_gradient function\n",
    "        Calculate gradient of loss function with respect to weights\n",
    "        :param x: features array\n",
    "        :param y: targets array\n",
    "        :return: gradient: np.ndarray\n",
    "        \"\"\"\n",
    "        \n",
    "        if self.loss_function == LossFunction.MSE:\n",
    "        # Calculate the gradient of mean squared error loss function\n",
    "            y_pred = np.dot(x, self.w)\n",
    "            return np.dot(x.T, y_pred - y) / x.shape[0]\n",
    "        elif self.loss_function == LossFunction.MAE:\n",
    "        # Calculate the gradient of mean absolute error loss function\n",
    "            y_pred = np.dot(x, self.w)\n",
    "            return np.dot(x.T, np.sign(y_pred - y)) / x.shape[0]\n",
    "\n",
    "    def calc_loss(self, x: np.ndarray, y: np.ndarray) -> float:\n",
    "        \"\"\"\n",
    "        Calculate loss for x and y with our weights\n",
    "        :param x: features array\n",
    "        :param y: targets array\n",
    "        :return: loss: float\n",
    "        \"\"\"\n",
    "        if self.loss_function == LossFunction.MSE:\n",
    "            y_pred = x @ self.w\n",
    "            return np.mean((y - y_pred)**2)\n",
    "        elif self.loss_function == LossFunction.MAE:\n",
    "            y_pred = np.dot(x, self.w)\n",
    "            return np.mean(np.abs(y - y_pred))\n",
    "        # TODO: implement loss calculation function\n",
    "        raise NotImplementedError('BaseDescent calc_loss function not implemented')\n",
    "\n",
    "    def predict(self, x: np.ndarray) -> np.ndarray:\n",
    "        \"\"\"\n",
    "        Calculate predictions for x\n",
    "        :param x: features array\n",
    "        :return: prediction: np.ndarray\n",
    "        \"\"\"\n",
    "        return x @ self.w\n",
    "        # TODO: implement prediction function\n",
    "        raise NotImplementedError('BaseDescent predict function not implemented')"
   ]
  },
  {
   "cell_type": "markdown",
   "metadata": {
    "pycharm": {
     "name": "#%% md\n"
    }
   },
   "source": [
    "### Задание 1.2. Полный градиентный спуск VanillaGradientDescent (0.5 балла).\n",
    "\n",
    "Реализуйте полный градиентный спуск заполнив пропуски в классе `VanillaGradientDescent` в файле `descents.py`. Для вычисления градиента используйте формулу выше. Шаг оптимизации:\n",
    "\n",
    "$$\n",
    "    w_{k + 1} = w_{k} - \\eta_{k} \\nabla_{w} Q(w_{k}).\n",
    "$$\n",
    "\n",
    "Здесь и далее функция `update_weights` должна возвращать разницу между $w_{k + 1}$ и $w_{k}$: $\\quad w_{k + 1} - w_{k} = -\\eta_{k} \\nabla_{w} Q(w_{k})$.\n",
    "\n",
    "Во всех методах градиентного спуска мы будем использовать следующую формулу для длины шага:\n",
    "\n",
    "$$\n",
    "    \\eta_{k} = \\lambda \\left(\\dfrac{s_0}{s_0 + k}\\right)^p\n",
    "$$\n",
    "\n",
    "На практике достаточно настроить параметр $\\lambda$, а остальным выставить параметры по умолчанию: $s_0 = 1, \\, p = 0.5.$"
   ]
  },
  {
   "cell_type": "code",
   "execution_count": 3,
   "metadata": {},
   "outputs": [],
   "source": [
    "class VanillaGradientDescent(BaseDescent):\n",
    "    \"\"\"\n",
    "    Full gradient descent class\n",
    "    \"\"\"\n",
    "\n",
    "    def update_weights(self, gradient: np.ndarray) -> np.ndarray:\n",
    "        \"\"\"\n",
    "        :return: weight difference (w_{k + 1} - w_k): np.ndarray\n",
    "        \"\"\"\n",
    "        \n",
    "        w_temp = self.w\n",
    "        self.w = w_temp - self.lr()*gradient\n",
    "        return self.w - w_temp\n",
    "        # TODO: implement updating weights function\n",
    "        raise NotImplementedError('VanillaGradientDescent update_weights function not implemented')\n",
    "\n",
    "    def calc_gradient(self, x: np.ndarray, y: np.ndarray) -> np.ndarray:\n",
    "        # TODO: implement calculating gradient function\n",
    "        if self.loss_function == LossFunction.MSE:\n",
    "            y_pred = x @ self.w\n",
    "            return (x.T @ (y_pred - y)) / x.shape[0]\n",
    "        elif self.loss_function == LossFunction.MAE:\n",
    "            y_pred = x @ self.w\n",
    "            return np.dot(x.T, np.sign(y_pred-y)) / x.shape[0]\n",
    "        \n",
    "        raise NotImplementedError('VanillaGradientDescent calc_gradient function not implemented')"
   ]
  },
  {
   "cell_type": "markdown",
   "metadata": {
    "pycharm": {
     "name": "#%% md\n"
    }
   },
   "source": [
    "### Лирическое-теоретическое отступление № 3\n",
    "\n",
    "Как правило, в задачах машинного обучения функционал $Q(w)$ представим в виде суммы $\\ell$ функций:\n",
    "\n",
    "$$\n",
    "    Q(w)\n",
    "    =\n",
    "    \\frac{1}{\\ell}\n",
    "    \\sum_{i = 1}^{\\ell}\n",
    "        q_i(w).\n",
    "$$\n",
    "\n",
    "В нашем домашнем задании отдельные функции $q_i(w)$ соответствуют ошибкам на отдельных объектах.\n",
    "\n",
    "Проблема метода градиентного спуска состоит в том, что на каждом шаге необходимо вычислять градиент всей суммы (будем его называть полным градиентом):\n",
    "\n",
    "$$\n",
    "    \\nabla_w Q(w)\n",
    "    =\n",
    "    \\frac{1}{\\ell}\n",
    "    \\sum_{i = 1}^{\\ell}\n",
    "        \\nabla_w q_i(w).\n",
    "$$\n",
    "\n",
    "Это может быть очень трудоёмко при больших размерах выборки. В то же время точное вычисление градиента может быть не так уж необходимо &ndash; как правило, мы делаем не очень большие шаги в сторону антиградиента, и наличие в нём неточностей не должно сильно сказаться на общей траектории.\n",
    "\n",
    "Оценить градиент суммы функций можно средним градиентов случайно взятого подмножества функций:\n",
    "\n",
    "$$\n",
    "    \\nabla_{w} Q(w_{k}) \\approx \\dfrac{1}{|B|}\\sum\\limits_{i \\in B}\\nabla_{w} q_{i}(w_{k}),\n",
    "$$\n",
    "где $B$ - это случайно выбранное подмножество индексов.\n",
    "\n",
    "В этом случае мы получим метод **стохастического градиентного спуска**."
   ]
  },
  {
   "cell_type": "markdown",
   "metadata": {
    "pycharm": {
     "name": "#%% md\n"
    }
   },
   "source": [
    "### Задание 1.3. Стохастический градиентный спуск StochasticDescent (0.5 балла).\n",
    "\n",
    "Реализуйте стохастический градиентный спуск заполнив пропуски в классе `StochasticDescent`. Для оценки градиента используйте формулу выше (среднее градиентов случайно выбранного батча объектов). Шаг оптимизации:\n",
    "\n",
    "$$\n",
    "    w_{k + 1} = w_{k} - \\eta_{k} \\dfrac{1}{|B|}\\sum\\limits_{i \\in B}\\nabla_{w} q_{i}(w_{k}).\n",
    "$$\n",
    "\n",
    "Размер батча будет являться гиперпараметром метода, семплируйте индексы для батча объектов с помощью `np.random.randint`."
   ]
  },
  {
   "cell_type": "code",
   "execution_count": 4,
   "metadata": {},
   "outputs": [],
   "source": [
    "class StochasticDescent(VanillaGradientDescent):\n",
    "    \"\"\"\n",
    "    Stochastic gradient descent class\n",
    "    \"\"\"\n",
    "\n",
    "    def __init__(self, dimension: int, lambda_: float = 1e-3, batch_size: int = 150,\n",
    "                 loss_function: LossFunction = LossFunction.MSE):\n",
    "        \"\"\"\n",
    "        :param batch_size: batch size (int)\n",
    "        \"\"\"\n",
    "        super().__init__(dimension, lambda_, loss_function)\n",
    "        self.batch_size = batch_size\n",
    "\n",
    "    def calc_gradient(self, x: np.ndarray, y: np.ndarray) -> np.ndarray:\n",
    "        # TODO: implement calculating gradient function\n",
    "        batch = np.random.randint(0, x.shape[0], self.batch_size)\n",
    "        \n",
    "        if self.loss_function == LossFunction.MSE:\n",
    "            y_pred = x[batch] @ self.w\n",
    "            return (x[batch].T @ (y_pred-y[batch])) / x[batch].shape[0]\n",
    "        elif self.loss_function == LossFunction.MAE:\n",
    "            y_pred = np.dot(x[batch], self.w)\n",
    "            return (np.dot(x[batch].T, np.sign(y_pred-y[batch]))) / x[batch].shape[0]\n",
    "        raise NotImplementedError('StochasticDescent calc_gradient function not implemented')"
   ]
  },
  {
   "cell_type": "markdown",
   "metadata": {
    "pycharm": {
     "name": "#%% md\n"
    }
   },
   "source": [
    "### Лирическое-теоретическое отступление № 4\n",
    "\n",
    "Может оказаться, что направление антиградиента сильно меняется от шага к шагу. Например, если линии уровня функционала сильно вытянуты, то из-за ортогональности градиента линиям уровня он будет менять направление на почти противоположное на каждом шаге. Такие осцилляции будут вносить сильный шум в движение, и процесс оптимизации займёт много итераций. Чтобы избежать этого, можно усреднять векторы антиградиента с нескольких предыдущих шагов &ndash; в этом случае шум уменьшится, и такой средний вектор будет указывать в сторону общего направления движения. Введём для этого вектор инерции:\n",
    "\n",
    "\\begin{align}\n",
    "    &h_0 = 0, \\\\\n",
    "    &h_{k + 1} = \\alpha h_{k} + \\eta_k \\nabla_w Q(w_{k})\n",
    "\\end{align}\n",
    "\n",
    "Здесь $\\alpha$ &ndash; параметр метода, определяющей скорость затухания градиентов с предыдущих шагов. Разумеется, вместо вектора градиента может быть использована его аппроксимация. Чтобы сделать шаг градиентного спуска, просто сдвинем предыдущую точку на вектор инерции:\n",
    "\n",
    "$$\n",
    "    w_{k + 1} = w_{k} - h_{k + 1}.\n",
    "$$\n",
    "\n",
    "Заметим, что если по какой-то координате градиент постоянно меняет знак, то в результате усреднения градиентов в векторе инерции эта координата окажется близкой к нулю. Если же по координате знак градиента всегда одинаковый, то величина соответствующей координаты в векторе инерции будет большой, и мы будем делать большие шаги в соответствующем направлении."
   ]
  },
  {
   "cell_type": "markdown",
   "metadata": {
    "pycharm": {
     "name": "#%% md\n"
    }
   },
   "source": [
    "### Задание 1.4 Метод Momentum MomentumDescent (0.5 балла).\n",
    "\n",
    "Реализуйте градиентный спуск с методом инерции заполнив пропуски в классе `MomentumDescent`. Шаг оптимизации:\n",
    "\n",
    "\\begin{align}\n",
    "    &h_0 = 0, \\\\\n",
    "    &h_{k + 1} = \\alpha h_{k} + \\eta_k \\nabla_w Q(w_{k}) \\\\\n",
    "    &w_{k + 1} = w_{k} - h_{k + 1}.\n",
    "\\end{align}\n",
    "\n",
    "$\\alpha$ будет являться гиперпараметром метода, но в данном домашнем задании мы зафиксируем её за вас $\\alpha = 0.9$."
   ]
  },
  {
   "cell_type": "code",
   "execution_count": 5,
   "metadata": {},
   "outputs": [],
   "source": [
    "\n",
    "class MomentumDescent(VanillaGradientDescent):\n",
    "    \"\"\"\n",
    "    Momentum gradient descent class\n",
    "    \"\"\"\n",
    "\n",
    "    def __init__(self, dimension: int, lambda_: float = 1e-3, loss_function: LossFunction = LossFunction.MSE):\n",
    "        super().__init__(dimension, lambda_, loss_function)\n",
    "        self.alpha: float = 0.9\n",
    "\n",
    "        self.h: np.ndarray = np.zeros(dimension)\n",
    "\n",
    "    def update_weights(self, gradient: np.ndarray) -> np.ndarray:\n",
    "        \"\"\"\n",
    "        :return: weight difference (w_{k + 1} - w_k): np.ndarray\n",
    "        \"\"\"\n",
    "        \n",
    "        self.h = self.alpha * self.h + self.lr()*gradient\n",
    "        temp_w = self.w\n",
    "        self.w = temp_w - self.h\n",
    "        return self.w - temp_w\n",
    "        raise NotImplementedError('MomentumDescent update_weights function not implemented')"
   ]
  },
  {
   "cell_type": "markdown",
   "metadata": {
    "pycharm": {
     "name": "#%% md\n"
    }
   },
   "source": [
    "### Лирическое-теоретическое отступление № 5\n",
    "\n",
    "Градиентный спуск очень чувствителен к выбору длины шага. Если шаг большой, то есть риск, что мы будем перескакивать через точку минимума; если же шаг маленький, то для нахождения минимума потребуется много итераций. При этом нет способов заранее определить правильный размер шага &ndash; к тому же, схемы с постепенным уменьшением шага по мере итераций могут тоже плохо работать.\n",
    "\n",
    "В методе AdaGrad предлагается сделать свою длину шага для каждой компоненты вектора параметров. При этом шаг будет тем меньше, чем более длинные шаги мы делали на предыдущих итерациях:\n",
    "\n",
    "\\begin{align}\n",
    "    &G_{kj} = G_{k-1,j} + (\\nabla_w Q(w_{k - 1}))_j^2; \\\\\n",
    "    &w_{jk} = w_{j,k-1} - \\frac{\\eta_t}{\\sqrt{G_{kj}} + \\varepsilon} (\\nabla_w Q(w_{k - 1}))_j.\n",
    "\\end{align}\n",
    "\n",
    "Здесь $\\varepsilon$ небольшая константа, которая предотвращает деление на ноль.\n",
    "\n",
    "В данном методе можно зафксировать длину шага (например, $\\eta_k = 0.01$) и не подбирать её в процессе обучения. **Отметим, что данный метод подходит для разреженных задач, в которых у каждого объекта большинство признаков равны нулю. Для признаков, у которых ненулевые значения встречаются редко, будут делаться большие шаги; если же какой-то признак часто является ненулевым, то шаги по нему будут небольшими.**\n",
    "\n",
    "У метода AdaGrad есть большой недостаток: переменная $G_{kj}$ монотонно растёт, из-за чего шаги становятся всё медленнее и могут остановиться ещё до того, как достигнут минимум функционала. Проблема решается в методе RMSprop, где используется экспоненциальное затухание градиентов:\n",
    "\n",
    "$$\n",
    "    G_{kj} = \\alpha G_{k-1,j} + (1 - \\alpha) (\\nabla_w Q(w^{(k-1)}))_j^2.\n",
    "$$\n",
    "\n",
    "В этом случае размер шага по координате зависит в основном от того, насколько\n",
    "быстро мы двигались по ней на последних итерациях.\n",
    "\n",
    "Можно объединить идеи описанных выше методов: накапливать градиенты со всех прошлых шагов для\n",
    "избежания осцилляций и делать адаптивную длину шага по каждому параметру."
   ]
  },
  {
   "cell_type": "markdown",
   "metadata": {
    "pycharm": {
     "name": "#%% md\n"
    }
   },
   "source": [
    "### Задание 1.5. Метод Adam (Adaptive Moment Estimation) (1.5 балла).\n",
    "\n",
    "![](adam_meme.png)\n",
    "\n",
    "Реализуйте градиентный спуск с методом Adam заполнив пропуски в классе `Adam`. Шаг оптимизации:\n",
    "\n",
    "\\begin{align}\n",
    "    &m_0 = 0, \\quad v_0 = 0; \\\\ \\\\\n",
    "    &m_{k + 1} = \\beta_1 m_k + (1 - \\beta_1) \\nabla_w Q(w_{k}); \\\\ \\\\\n",
    "    &v_{k + 1} = \\beta_2 v_k + (1 - \\beta_2) \\left(\\nabla_w Q(w_{k})\\right)^2; \\\\ \\\\\n",
    "    &\\widehat{m}_{k} = \\dfrac{m_k}{1 - \\beta_1^{k}}, \\quad \\widehat{v}_{k} = \\dfrac{v_k}{1 - \\beta_2^{k}}; \\\\ \\\\\n",
    "    &w_{k + 1} = w_{k} - \\dfrac{\\eta_k}{\\sqrt{\\widehat{v}_{k + 1}} + \\varepsilon} \\widehat{m}_{k + 1}.\n",
    "\\end{align}\n",
    "\n",
    "$\\beta_1 = 0.9, \\beta_2 = 0.999$ и $\\varepsilon = 10^{-8}$ будут зафиксированы за вас."
   ]
  },
  {
   "cell_type": "code",
   "execution_count": 6,
   "metadata": {},
   "outputs": [],
   "source": [
    "class Adam(VanillaGradientDescent):\n",
    "    \"\"\"\n",
    "    Adaptive Moment Estimation gradient descent class\n",
    "    \"\"\"\n",
    "\n",
    "    def __init__(self, dimension: int, lambda_: float = 1e-3, loss_function: LossFunction = LossFunction.MSE):\n",
    "        super().__init__(dimension, lambda_, loss_function)\n",
    "        self.eps: float = 1e-8\n",
    "\n",
    "        self.m: np.ndarray = np.zeros(dimension)\n",
    "        self.v: np.ndarray = np.zeros(dimension)\n",
    "\n",
    "        self.beta_1: float = 0.9\n",
    "        self.beta_2: float = 0.999\n",
    "\n",
    "        self.iteration: int = 0\n",
    "\n",
    "    def update_weights(self, gradient: np.ndarray) -> np.ndarray:\n",
    "        \"\"\"\n",
    "        :return: weight difference (w_{k + 1} - w_k): np.ndarray\n",
    "        \"\"\"\n",
    "        # TODO: implement updating weights function\n",
    "        self.iteration += 1\n",
    "        \n",
    "        self.m = self.beta_1 * self.m + (1 - self.beta_1)*gradient\n",
    "        self.v = self.beta_2 * self.v + (1 - self.beta_2)*(gradient ** 2)\n",
    "        \n",
    "        m_hat = self.m/(1-self.beta_1**self.iteration)\n",
    "        v_hat = self.v/(1-self.beta_2**self.iteration)\n",
    "        \n",
    "        temp_w = self.w\n",
    "        self.w = temp_w - (self.lr()/(np.sqrt(v_hat) + self.eps)) * m_hat\n",
    "        return self.w - temp_w\n",
    "        raise NotImplementedError('Adagrad update_weights function not implemented')"
   ]
  },
  {
   "cell_type": "code",
   "execution_count": 7,
   "metadata": {},
   "outputs": [],
   "source": [
    "def get_descent(descent_config: dict) -> BaseDescent:\n",
    "    descent_name = descent_config.get('descent_name', 'full')\n",
    "    regularized = descent_config.get('regularized', False)\n",
    "\n",
    "    descent_mapping: Dict[str, Type[BaseDescent]] = {\n",
    "        'full': VanillaGradientDescent if not regularized else VanillaGradientDescentReg,\n",
    "        'stochastic': StochasticDescent if not regularized else StochasticDescentReg,\n",
    "        'momentum': MomentumDescent if not regularized else MomentumDescentReg,\n",
    "        'adam': Adam if not regularized else AdamReg\n",
    "    }\n",
    "\n",
    "    if descent_name not in descent_mapping:\n",
    "        raise ValueError(f'Incorrect descent name, use one of these: {descent_mapping.keys()}')\n",
    "\n",
    "    descent_class = descent_mapping[descent_name]\n",
    "\n",
    "    return descent_class(**descent_config.get('kwargs', {}))\n"
   ]
  },
  {
   "cell_type": "markdown",
   "metadata": {
    "pycharm": {
     "name": "#%% md\n"
    }
   },
   "source": [
    "## Задание 2. Реализация линейной регресии (0.5 балла)\n",
    "\n",
    "В этом задании вам предстоит написать свою реализацию линейной регресии, обучаемой с использованием градиентного спуска, с опорой на подготовленные шаблоны в файле `linear_regression.py` - **LinearRegression**. По сути линейная регрессия будет оберткой, которая запускает обучение \n",
    "\n",
    "Необходимо соблюдать следующие условия:\n",
    "\n",
    "* Все вычисления должны быть векторизованы;\n",
    "* Циклы средствами python допускаются только для итераций градиентного спуска;\n",
    "* В качестве критерия останова необходимо использовать (одновременно):\n",
    "    * Квадрат евклидовой нормы разности весов на двух соседних итерациях меньше `tolerance`;\n",
    "    * Разность весов содержит наны;\n",
    "    * Достижение максимального числа итераций `max_iter`.\n",
    "* Будем считать, что все данные, которые поступают на вход имеют столбец единичек последним столбцом;\n",
    "* Чтобы проследить за сходимостью оптимизационного процесса будем использовать `loss_history`, в нём будем хранить значения функции потерь до каждого шага, начиная с нулевого (до первого шага по антиградиенту) и значение функции потерь после оптимизации."
   ]
  },
  {
   "cell_type": "code",
   "execution_count": 8,
   "metadata": {},
   "outputs": [],
   "source": [
    "from __future__ import annotations\n",
    "\n",
    "from typing import List\n",
    "\n",
    "import numpy as np\n",
    "\n",
    "class LinearRegression:\n",
    "    \"\"\"\n",
    "    Linear regression class\n",
    "    \"\"\"\n",
    "\n",
    "    def __init__(self, descent_config: dict, tolerance: float = 1e-4, max_iter: int = 300):\n",
    "        \"\"\"\n",
    "        :param descent_config: gradient descent config\n",
    "        :param tolerance: stopping criterion for square of euclidean norm of weight difference (float)\n",
    "        :param max_iter: stopping criterion for iterations (int)\n",
    "        \"\"\"\n",
    "        self.descent: BaseDescent = get_descent(descent_config)\n",
    "\n",
    "        self.tolerance: float = tolerance\n",
    "        self.max_iter: int = max_iter\n",
    "\n",
    "        self.loss_history: List[float] = []\n",
    "\n",
    "    def fit(self, x: np.ndarray, y: np.ndarray) -> LinearRegression:\n",
    "        \"\"\"\n",
    "        Fitting descent weights for x and y dataset\n",
    "        :param x: features array\n",
    "        :param y: targets array\n",
    "        :return: self\n",
    "        \"\"\"\n",
    "        # TODO: fit weights to x and y\n",
    "        self.i = 0\n",
    "        for self.i in range(self.max_iter):\n",
    "            step_descent_one = self.descent.step(x, y)\n",
    "            self.loss_history.append(self.descent.calc_loss(x,y)**0.5)\n",
    "            if (pd.isna(step_descent_one).any()) or (np.mean(step_descent_one ** 2)) < self.tolerance:\n",
    "                break;\n",
    "        \n",
    "        return self\n",
    "        raise NotImplementedError('LinearRegression fit function not implemented')\n",
    "\n",
    "    def predict(self, x: np.ndarray) -> np.ndarray:\n",
    "        \"\"\"\n",
    "        Predicting targets for x dataset\n",
    "        :param x: features array\n",
    "        :return: prediction: np.ndarray\n",
    "        \"\"\"\n",
    "        return self.descent.predict(x)\n",
    "\n",
    "    def calc_loss(self, x: np.ndarray, y: np.ndarray) -> float:\n",
    "        \"\"\"\n",
    "        Calculating loss for x and y dataset\n",
    "        :param x: features array\n",
    "        :param y: targets array\n",
    "        \"\"\"\n",
    "        return self.descent.calc_loss(x, y)\n"
   ]
  },
  {
   "cell_type": "markdown",
   "metadata": {
    "pycharm": {
     "name": "#%% md\n"
    }
   },
   "source": [
    "## Задание 3. Проверка кода (0 баллов)"
   ]
  },
  {
   "cell_type": "code",
   "execution_count": 9,
   "metadata": {
    "pycharm": {
     "name": "#%%\n"
    }
   },
   "outputs": [],
   "source": [
    "num_objects = 10000\n",
    "dimension = 10\n",
    "x = np.random.rand(num_objects, dimension)\n",
    "y = np.random.rand(num_objects)"
   ]
  },
  {
   "cell_type": "code",
   "execution_count": 10,
   "metadata": {},
   "outputs": [
    {
     "name": "stdout",
     "output_type": "stream",
     "text": [
      "BaseDescent:  2.9798834466204056\n",
      "Vanilla    :  3.449171698722802\n",
      "Stochastic :  5.998027919353277\n",
      "Momentum   :  1.527653511491924\n",
      "Adam       :  0.09228395480895603\n"
     ]
    }
   ],
   "source": [
    "descent_1 = BaseDescent(dimension=dimension)\n",
    "descent_2 = VanillaGradientDescent(dimension=dimension)\n",
    "descent_3 = StochasticDescent(dimension=dimension)\n",
    "descent_4 = MomentumDescent(dimension=dimension)\n",
    "descent_5 = Adam(dimension=dimension, lambda_=3)\n",
    "for _ in range(100):\n",
    "    descent_1.step(x, y)\n",
    "    descent_2.step(x, y)\n",
    "    descent_3.step(x, y)\n",
    "    descent_4.step(x, y)\n",
    "    descent_5.step(x, y)\n",
    "\n",
    "\n",
    "print(\"BaseDescent: \", descent_1.calc_loss(x,y))\n",
    "print(\"Vanilla    : \", descent_2.calc_loss(x,y))\n",
    "print(\"Stochastic : \", descent_3.calc_loss(x,y))\n",
    "print(\"Momentum   : \", descent_4.calc_loss(x,y))\n",
    "print(\"Adam       : \", descent_5.calc_loss(x,y))"
   ]
  },
  {
   "cell_type": "markdown",
   "metadata": {},
   "source": [
    "Из эксперементов по изменению параметров можно сделать вывод, что Adam имеет больше устойчивости к изначально большим шагам и маленьким, не нужно точно указывать размер шага, чтобы Adam сходилось к предпологаемому минимуму"
   ]
  },
  {
   "cell_type": "code",
   "execution_count": 11,
   "metadata": {
    "pycharm": {
     "name": "#%%\n"
    }
   },
   "outputs": [
    {
     "data": {
      "text/plain": [
       "<__main__.LinearRegression at 0x276cfa12eb0>"
      ]
     },
     "execution_count": 11,
     "metadata": {},
     "output_type": "execute_result"
    }
   ],
   "source": [
    "# LinearRegression\n",
    "\n",
    "max_iter = 100\n",
    "tolerance = 0\n",
    "\n",
    "descent_config = {\n",
    "    'descent_name': 'momentum',\n",
    "    'kwargs': {\n",
    "        'dimension': dimension,\n",
    "#        'lambda_': 3\n",
    "    #    'batch_size': 50\n",
    "    }\n",
    "}\n",
    "\n",
    "regression = LinearRegression(\n",
    "    descent_config=descent_config,\n",
    "    tolerance=tolerance,\n",
    "    max_iter=max_iter\n",
    ")\n",
    "\n",
    "regression.fit(x, y)"
   ]
  },
  {
   "cell_type": "code",
   "execution_count": 12,
   "metadata": {},
   "outputs": [
    {
     "data": {
      "text/plain": [
       "[1.5742017236845078,\n",
       " 1.5698808137649918,\n",
       " 1.5656007009521826,\n",
       " 1.5613605669819337,\n",
       " 1.5571596198613635,\n",
       " 1.5529970927440524,\n",
       " 1.5488722428619017,\n",
       " 1.5447843505106142,\n",
       " 1.5407327180859083,\n",
       " 1.5367166691677392]"
      ]
     },
     "execution_count": 12,
     "metadata": {},
     "output_type": "execute_result"
    }
   ],
   "source": [
    "regression.loss_history[-10:]"
   ]
  },
  {
   "cell_type": "markdown",
   "metadata": {
    "pycharm": {
     "name": "#%% md\n"
    }
   },
   "source": [
    "## Задание 4. Работа с данными (1 балл)\n",
    "\n",
    "Мы будем использовать датасет объявлений по продаже машин на немецком Ebay. В задаче предсказания целевой переменной для нас будет являться цена."
   ]
  },
  {
   "cell_type": "markdown",
   "metadata": {
    "pycharm": {
     "name": "#%% md\n"
    }
   },
   "source": [
    "* Постройте график распределения целевой переменной в данных, подумайте, нужно ли заменить её на логарифм. Присутствуют ли выбросы в данных с аномальной ценой? Если да, то удалите их из данных.\n",
    "\n",
    "* Проведите исследование данных:\n",
    "    * Проанализируйте тип столбцов, постройте графики зависимости целевой переменной от признака, распределения значений признака;\n",
    "    * Подумайте, какие признаки могут быть полезными на основе этих графиков, обработайте выбросы;\n",
    "    * Подумайте, какие трансформации признаков из известных вам будет уместно применить;\n",
    "    * Разделите полезные признаки на категориальные, вещественные и те, которые не надо предобрабатывать.\n",
    "* Разделите данные на обучающую, валидационную и тестовую выборки в отношении 8:1:1."
   ]
  },
  {
   "cell_type": "code",
   "execution_count": 13,
   "metadata": {
    "pycharm": {
     "name": "#%%\n"
    }
   },
   "outputs": [],
   "source": [
    "import numpy as np\n",
    "import pandas as pd\n",
    "\n",
    "import matplotlib.pyplot as plt\n",
    "import seaborn as sns\n"
   ]
  },
  {
   "cell_type": "code",
   "execution_count": 14,
   "metadata": {
    "pycharm": {
     "name": "#%%\n"
    }
   },
   "outputs": [],
   "source": [
    "data = pd.read_csv('autos.csv')"
   ]
  },
  {
   "cell_type": "code",
   "execution_count": 15,
   "metadata": {
    "pycharm": {
     "name": "#%%\n"
    }
   },
   "outputs": [
    {
     "data": {
      "text/html": [
       "<div>\n",
       "<style scoped>\n",
       "    .dataframe tbody tr th:only-of-type {\n",
       "        vertical-align: middle;\n",
       "    }\n",
       "\n",
       "    .dataframe tbody tr th {\n",
       "        vertical-align: top;\n",
       "    }\n",
       "\n",
       "    .dataframe thead th {\n",
       "        text-align: right;\n",
       "    }\n",
       "</style>\n",
       "<table border=\"1\" class=\"dataframe\">\n",
       "  <thead>\n",
       "    <tr style=\"text-align: right;\">\n",
       "      <th></th>\n",
       "      <th>brand</th>\n",
       "      <th>model</th>\n",
       "      <th>vehicleType</th>\n",
       "      <th>gearbox</th>\n",
       "      <th>fuelType</th>\n",
       "      <th>notRepairedDamage</th>\n",
       "      <th>powerPS</th>\n",
       "      <th>kilometer</th>\n",
       "      <th>autoAgeMonths</th>\n",
       "      <th>price</th>\n",
       "    </tr>\n",
       "  </thead>\n",
       "  <tbody>\n",
       "    <tr>\n",
       "      <th>0</th>\n",
       "      <td>volkswagen</td>\n",
       "      <td>golf</td>\n",
       "      <td>kleinwagen</td>\n",
       "      <td>manuell</td>\n",
       "      <td>benzin</td>\n",
       "      <td>nein</td>\n",
       "      <td>75</td>\n",
       "      <td>150000</td>\n",
       "      <td>177</td>\n",
       "      <td>1500</td>\n",
       "    </tr>\n",
       "    <tr>\n",
       "      <th>1</th>\n",
       "      <td>skoda</td>\n",
       "      <td>fabia</td>\n",
       "      <td>kleinwagen</td>\n",
       "      <td>manuell</td>\n",
       "      <td>diesel</td>\n",
       "      <td>nein</td>\n",
       "      <td>69</td>\n",
       "      <td>90000</td>\n",
       "      <td>93</td>\n",
       "      <td>3600</td>\n",
       "    </tr>\n",
       "    <tr>\n",
       "      <th>2</th>\n",
       "      <td>bmw</td>\n",
       "      <td>3er</td>\n",
       "      <td>limousine</td>\n",
       "      <td>manuell</td>\n",
       "      <td>benzin</td>\n",
       "      <td>ja</td>\n",
       "      <td>102</td>\n",
       "      <td>150000</td>\n",
       "      <td>246</td>\n",
       "      <td>650</td>\n",
       "    </tr>\n",
       "    <tr>\n",
       "      <th>3</th>\n",
       "      <td>peugeot</td>\n",
       "      <td>2_reihe</td>\n",
       "      <td>cabrio</td>\n",
       "      <td>manuell</td>\n",
       "      <td>benzin</td>\n",
       "      <td>nein</td>\n",
       "      <td>109</td>\n",
       "      <td>150000</td>\n",
       "      <td>140</td>\n",
       "      <td>2200</td>\n",
       "    </tr>\n",
       "    <tr>\n",
       "      <th>4</th>\n",
       "      <td>mazda</td>\n",
       "      <td>3_reihe</td>\n",
       "      <td>limousine</td>\n",
       "      <td>manuell</td>\n",
       "      <td>benzin</td>\n",
       "      <td>nein</td>\n",
       "      <td>105</td>\n",
       "      <td>150000</td>\n",
       "      <td>136</td>\n",
       "      <td>2000</td>\n",
       "    </tr>\n",
       "  </tbody>\n",
       "</table>\n",
       "</div>"
      ],
      "text/plain": [
       "        brand    model vehicleType  gearbox fuelType notRepairedDamage  \\\n",
       "0  volkswagen     golf  kleinwagen  manuell   benzin              nein   \n",
       "1       skoda    fabia  kleinwagen  manuell   diesel              nein   \n",
       "2         bmw      3er   limousine  manuell   benzin                ja   \n",
       "3     peugeot  2_reihe      cabrio  manuell   benzin              nein   \n",
       "4       mazda  3_reihe   limousine  manuell   benzin              nein   \n",
       "\n",
       "   powerPS  kilometer  autoAgeMonths  price  \n",
       "0       75     150000            177   1500  \n",
       "1       69      90000             93   3600  \n",
       "2      102     150000            246    650  \n",
       "3      109     150000            140   2200  \n",
       "4      105     150000            136   2000  "
      ]
     },
     "execution_count": 15,
     "metadata": {},
     "output_type": "execute_result"
    }
   ],
   "source": [
    "data.head()"
   ]
  },
  {
   "cell_type": "markdown",
   "metadata": {
    "pycharm": {
     "name": "#%% md\n"
    }
   },
   "source": [
    "Колонки в данных:\n",
    "\n",
    "* `brand` - название бренда автомобиля\n",
    "* `model` - название модели автомобиля\n",
    "* `vehicleType` - тип транспортного средства\n",
    "* `gearbox` - тип трансмисcии\n",
    "* `fuelType` - какой вид топлива использует автомобиль\n",
    "* `notRepairedDamage` - есть ли в автомобиле неисправность, которая еще не устранена\n",
    "* `powerPS` - мощность автомобиля в PS (метрическая лошадиная сила)\n",
    "* `kilometer` - сколько километров проехал автомобиль, пробег\n",
    "* `autoAgeMonths` - возраст автомобиля в месяцах\n",
    "\n",
    "\n",
    "* `price` - цена, указанная в объявлении о продаже автомобиля (целевая переменная)"
   ]
  },
  {
   "cell_type": "code",
   "execution_count": 16,
   "metadata": {},
   "outputs": [
    {
     "data": {
      "text/plain": [
       "brand                object\n",
       "model                object\n",
       "vehicleType          object\n",
       "gearbox              object\n",
       "fuelType             object\n",
       "notRepairedDamage    object\n",
       "powerPS               int64\n",
       "kilometer             int64\n",
       "autoAgeMonths         int64\n",
       "price                 int64\n",
       "dtype: object"
      ]
     },
     "execution_count": 16,
     "metadata": {},
     "output_type": "execute_result"
    }
   ],
   "source": [
    "data.dtypes"
   ]
  },
  {
   "cell_type": "code",
   "execution_count": 17,
   "metadata": {
    "pycharm": {
     "name": "#%%\n"
    }
   },
   "outputs": [],
   "source": [
    "categorical = [\"brand\", \"model\", \"vehicleType\", \"gearbox\", \"fuelType\", \"notRepairedDamage\"]\n",
    "numeric = [\"powerPS\", \"kilometer\", \"autoAgeMonths\"]\n",
    "other = [\"price\"]"
   ]
  },
  {
   "cell_type": "code",
   "execution_count": 18,
   "metadata": {},
   "outputs": [
    {
     "data": {
      "text/plain": [
       "brand                0\n",
       "model                0\n",
       "vehicleType          0\n",
       "gearbox              0\n",
       "fuelType             0\n",
       "notRepairedDamage    0\n",
       "powerPS              0\n",
       "kilometer            0\n",
       "autoAgeMonths        0\n",
       "price                0\n",
       "dtype: int64"
      ]
     },
     "execution_count": 18,
     "metadata": {},
     "output_type": "execute_result"
    }
   ],
   "source": [
    "data.isnull().sum()"
   ]
  },
  {
   "cell_type": "code",
   "execution_count": 19,
   "metadata": {},
   "outputs": [
    {
     "data": {
      "text/html": [
       "<div>\n",
       "<style scoped>\n",
       "    .dataframe tbody tr th:only-of-type {\n",
       "        vertical-align: middle;\n",
       "    }\n",
       "\n",
       "    .dataframe tbody tr th {\n",
       "        vertical-align: top;\n",
       "    }\n",
       "\n",
       "    .dataframe thead th {\n",
       "        text-align: right;\n",
       "    }\n",
       "</style>\n",
       "<table border=\"1\" class=\"dataframe\">\n",
       "  <thead>\n",
       "    <tr style=\"text-align: right;\">\n",
       "      <th></th>\n",
       "      <th>powerPS</th>\n",
       "      <th>kilometer</th>\n",
       "      <th>autoAgeMonths</th>\n",
       "      <th>price</th>\n",
       "    </tr>\n",
       "  </thead>\n",
       "  <tbody>\n",
       "    <tr>\n",
       "      <th>count</th>\n",
       "      <td>241190.000000</td>\n",
       "      <td>241190.000000</td>\n",
       "      <td>241190.000000</td>\n",
       "      <td>241190.000000</td>\n",
       "    </tr>\n",
       "    <tr>\n",
       "      <th>mean</th>\n",
       "      <td>131.271628</td>\n",
       "      <td>123766.677723</td>\n",
       "      <td>144.768676</td>\n",
       "      <td>6887.741892</td>\n",
       "    </tr>\n",
       "    <tr>\n",
       "      <th>std</th>\n",
       "      <td>60.622613</td>\n",
       "      <td>39825.955933</td>\n",
       "      <td>73.092598</td>\n",
       "      <td>8024.451993</td>\n",
       "    </tr>\n",
       "    <tr>\n",
       "      <th>min</th>\n",
       "      <td>51.000000</td>\n",
       "      <td>5000.000000</td>\n",
       "      <td>1.000000</td>\n",
       "      <td>1.000000</td>\n",
       "    </tr>\n",
       "    <tr>\n",
       "      <th>25%</th>\n",
       "      <td>90.000000</td>\n",
       "      <td>100000.000000</td>\n",
       "      <td>92.000000</td>\n",
       "      <td>1750.000000</td>\n",
       "    </tr>\n",
       "    <tr>\n",
       "      <th>50%</th>\n",
       "      <td>120.000000</td>\n",
       "      <td>150000.000000</td>\n",
       "      <td>140.000000</td>\n",
       "      <td>4100.000000</td>\n",
       "    </tr>\n",
       "    <tr>\n",
       "      <th>75%</th>\n",
       "      <td>160.000000</td>\n",
       "      <td>150000.000000</td>\n",
       "      <td>192.000000</td>\n",
       "      <td>8999.000000</td>\n",
       "    </tr>\n",
       "    <tr>\n",
       "      <th>max</th>\n",
       "      <td>589.000000</td>\n",
       "      <td>150000.000000</td>\n",
       "      <td>600.000000</td>\n",
       "      <td>99999.000000</td>\n",
       "    </tr>\n",
       "  </tbody>\n",
       "</table>\n",
       "</div>"
      ],
      "text/plain": [
       "             powerPS      kilometer  autoAgeMonths          price\n",
       "count  241190.000000  241190.000000  241190.000000  241190.000000\n",
       "mean      131.271628  123766.677723     144.768676    6887.741892\n",
       "std        60.622613   39825.955933      73.092598    8024.451993\n",
       "min        51.000000    5000.000000       1.000000       1.000000\n",
       "25%        90.000000  100000.000000      92.000000    1750.000000\n",
       "50%       120.000000  150000.000000     140.000000    4100.000000\n",
       "75%       160.000000  150000.000000     192.000000    8999.000000\n",
       "max       589.000000  150000.000000     600.000000   99999.000000"
      ]
     },
     "execution_count": 19,
     "metadata": {},
     "output_type": "execute_result"
    }
   ],
   "source": [
    "data.describe()"
   ]
  },
  {
   "cell_type": "code",
   "execution_count": 20,
   "metadata": {},
   "outputs": [
    {
     "data": {
      "text/html": [
       "<div>\n",
       "<style scoped>\n",
       "    .dataframe tbody tr th:only-of-type {\n",
       "        vertical-align: middle;\n",
       "    }\n",
       "\n",
       "    .dataframe tbody tr th {\n",
       "        vertical-align: top;\n",
       "    }\n",
       "\n",
       "    .dataframe thead th {\n",
       "        text-align: right;\n",
       "    }\n",
       "</style>\n",
       "<table border=\"1\" class=\"dataframe\">\n",
       "  <thead>\n",
       "    <tr style=\"text-align: right;\">\n",
       "      <th></th>\n",
       "      <th>brand</th>\n",
       "      <th>model</th>\n",
       "      <th>vehicleType</th>\n",
       "      <th>gearbox</th>\n",
       "      <th>fuelType</th>\n",
       "      <th>notRepairedDamage</th>\n",
       "    </tr>\n",
       "  </thead>\n",
       "  <tbody>\n",
       "    <tr>\n",
       "      <th>count</th>\n",
       "      <td>241190</td>\n",
       "      <td>241190</td>\n",
       "      <td>241190</td>\n",
       "      <td>241190</td>\n",
       "      <td>241190</td>\n",
       "      <td>241190</td>\n",
       "    </tr>\n",
       "    <tr>\n",
       "      <th>unique</th>\n",
       "      <td>38</td>\n",
       "      <td>249</td>\n",
       "      <td>8</td>\n",
       "      <td>2</td>\n",
       "      <td>7</td>\n",
       "      <td>2</td>\n",
       "    </tr>\n",
       "    <tr>\n",
       "      <th>top</th>\n",
       "      <td>volkswagen</td>\n",
       "      <td>golf</td>\n",
       "      <td>limousine</td>\n",
       "      <td>manuell</td>\n",
       "      <td>benzin</td>\n",
       "      <td>nein</td>\n",
       "    </tr>\n",
       "    <tr>\n",
       "      <th>freq</th>\n",
       "      <td>49087</td>\n",
       "      <td>20071</td>\n",
       "      <td>72515</td>\n",
       "      <td>183620</td>\n",
       "      <td>153612</td>\n",
       "      <td>217613</td>\n",
       "    </tr>\n",
       "  </tbody>\n",
       "</table>\n",
       "</div>"
      ],
      "text/plain": [
       "             brand   model vehicleType  gearbox fuelType notRepairedDamage\n",
       "count       241190  241190      241190   241190   241190            241190\n",
       "unique          38     249           8        2        7                 2\n",
       "top     volkswagen    golf   limousine  manuell   benzin              nein\n",
       "freq         49087   20071       72515   183620   153612            217613"
      ]
     },
     "execution_count": 20,
     "metadata": {},
     "output_type": "execute_result"
    }
   ],
   "source": [
    "data.describe(include=\"object\")"
   ]
  },
  {
   "cell_type": "code",
   "execution_count": 21,
   "metadata": {},
   "outputs": [],
   "source": [
    "per5 = np.percentile(data[\"price\"], 5)\n",
    "per95 = np.percentile(data[\"price\"], 95)\n",
    "data = data[(data[\"price\"]<per95)&(data[\"price\"] > per5)]"
   ]
  },
  {
   "cell_type": "code",
   "execution_count": 22,
   "metadata": {
    "scrolled": false
   },
   "outputs": [
    {
     "data": {
      "text/plain": [
       "<AxesSubplot:>"
      ]
     },
     "execution_count": 22,
     "metadata": {},
     "output_type": "execute_result"
    },
    {
     "data": {
      "image/png": "[encoded data removed]",
      "text/plain": [
       "<Figure size 432x288 with 1 Axes>"
      ]
     },
     "metadata": {
      "needs_background": "light"
     },
     "output_type": "display_data"
    }
   ],
   "source": [
    "data[\"price\"].hist(bins = 50)"
   ]
  },
  {
   "cell_type": "code",
   "execution_count": 23,
   "metadata": {
    "scrolled": false
   },
   "outputs": [
    {
     "data": {
      "text/plain": [
       "<AxesSubplot:xlabel='notRepairedDamage', ylabel='price'>"
      ]
     },
     "execution_count": 23,
     "metadata": {},
     "output_type": "execute_result"
    },
    {
     "data": {
      "image/png": "[encoded data removed]",
      "text/plain": [
       "<Figure size 2210.4x739.44 with 3 Axes>"
      ]
     },
     "metadata": {},
     "output_type": "display_data"
    }
   ],
   "source": [
    "sns.set(rc={'figure.figsize':(30.7,10.27)})\n",
    "figure, (ax1, ax2, ax3)  = plt.subplots(1, 3)\n",
    "\n",
    "sns.boxplot(data = data, y = \"price\", x = \"vehicleType\",hue=\"gearbox\" ,ax=ax1)\n",
    "sns.boxplot(data = data, y = \"price\", x = \"fuelType\", ax=ax2)\n",
    "sns.boxplot(data = data, y = \"price\", x = \"notRepairedDamage\", ax=ax3)"
   ]
  },
  {
   "cell_type": "code",
   "execution_count": 24,
   "metadata": {},
   "outputs": [],
   "source": [
    "other_model = data[\"model\"].value_counts() < 50\n",
    "pd.DataFrame(other_model)\n",
    "other_model = list((other_model[other_model == True]).index)"
   ]
  },
  {
   "cell_type": "code",
   "execution_count": 25,
   "metadata": {},
   "outputs": [],
   "source": [
    "sns.set(rc={'figure.figsize':(30.7,15.27)})\n",
    "data[\"model\"] = data[\"model\"].apply(lambda w: \"other\" if w in other_model else w)\n",
    "data[\"gearbox\"] = data[\"gearbox\"].apply(lambda w: 1 if w == \"automatik\" else 0)\n",
    "data[\"notRepairedDamage\"] = data[\"notRepairedDamage\"].apply(lambda w: 1 if w == \"nein\" else 0)"
   ]
  },
  {
   "cell_type": "code",
   "execution_count": 26,
   "metadata": {
    "scrolled": false
   },
   "outputs": [
    {
     "data": {
      "text/plain": [
       "<AxesSubplot:>"
      ]
     },
     "execution_count": 26,
     "metadata": {},
     "output_type": "execute_result"
    },
    {
     "data": {
      "image/png": "[encoded data removed]",
      "text/plain": [
       "<Figure size 2210.4x1099.44 with 2 Axes>"
      ]
     },
     "metadata": {},
     "output_type": "display_data"
    }
   ],
   "source": [
    "sns.heatmap(data.corr(), annot=True)"
   ]
  },
  {
   "cell_type": "code",
   "execution_count": 27,
   "metadata": {
    "pycharm": {
     "name": "#%%\n"
    }
   },
   "outputs": [],
   "source": [
    "data['bias'] = 1\n",
    "other += ['bias']\n",
    "\n",
    "x = data[categorical + numeric]\n",
    "y = data['price']"
   ]
  },
  {
   "cell_type": "code",
   "execution_count": 28,
   "metadata": {
    "pycharm": {
     "name": "#%%\n"
    }
   },
   "outputs": [],
   "source": [
    "from sklearn.compose import ColumnTransformer\n",
    "from sklearn.preprocessing import OneHotEncoder\n",
    "from sklearn.preprocessing import StandardScaler\n",
    "\n",
    "categorical = [\"brand\", \"model\", \"vehicleType\", \"fuelType\"]\n",
    "numeric = [\"powerPS\", \"kilometer\", \"autoAgeMonths\"]\n",
    "\n",
    "\n",
    "column_transformer = ColumnTransformer([\n",
    "    ('ohe', OneHotEncoder(handle_unknown='ignore'), categorical),\n",
    "    ('scaling', StandardScaler(), numeric)\n",
    "])\n",
    "\n",
    "x = column_transformer.fit_transform(x)"
   ]
  },
  {
   "cell_type": "code",
   "execution_count": 29,
   "metadata": {},
   "outputs": [],
   "source": [
    "from sklearn.model_selection import train_test_split\n",
    "\n",
    "X_train, X_test, y_train, y_test = train_test_split(x, y, test_size=0.1, random_state=42)\n",
    "X_train, X_val, y_train, y_val = train_test_split(X_train, y_train, test_size=0.1, random_state=42)"
   ]
  },
  {
   "cell_type": "code",
   "execution_count": 30,
   "metadata": {
    "pycharm": {
     "name": "#%%\n"
    }
   },
   "outputs": [],
   "source": [
    "from sklearn.linear_model import Ridge\n",
    "from sklearn.metrics import mean_squared_error, r2_score\n",
    "from sklearn.pipeline import Pipeline\n",
    "\n",
    "pipeline = Pipeline(steps=[('regr', Ridge())])"
   ]
  },
  {
   "cell_type": "code",
   "execution_count": 31,
   "metadata": {},
   "outputs": [
    {
     "name": "stdout",
     "output_type": "stream",
     "text": [
      "Best alpha = 0.0464\n"
     ]
    }
   ],
   "source": [
    "from sklearn.model_selection import GridSearchCV\n",
    "\n",
    "alphas = np.logspace(-2, 4, 10)\n",
    "searcher = GridSearchCV(pipeline, [{\"regr__alpha\": alphas}],\n",
    "                        scoring=\"neg_root_mean_squared_error\", cv=5)\n",
    "\n",
    "searcher.fit(X_train, y_train)\n",
    "\n",
    "best_alpha = searcher.best_params_[\"regr__alpha\"]\n",
    "print(\"Best alpha = %.4f\" % best_alpha)"
   ]
  },
  {
   "cell_type": "code",
   "execution_count": 32,
   "metadata": {},
   "outputs": [
    {
     "name": "stdout",
     "output_type": "stream",
     "text": [
      "Test MSE:  6902053.973061431\n",
      "Train MSE:  6796593.67311283\n",
      "\n",
      "Test RMSE:  2627.176045312044\n",
      "Train RMSE:  2607.027746901216\n",
      "Test R2_score:  0.7221369373554609\n"
     ]
    }
   ],
   "source": [
    "print(\"Test MSE: \", mean_squared_error(y_test, searcher.best_estimator_.predict(X_test), squared=True))\n",
    "print(\"Train MSE: \", mean_squared_error(y_train, searcher.best_estimator_.predict(X_train), squared=True))\n",
    "print(\"\\nTest RMSE: \", mean_squared_error(y_test, searcher.best_estimator_.predict(X_test), squared=False))\n",
    "print(\"Train RMSE: \", mean_squared_error(y_train, searcher.best_estimator_.predict(X_train), squared=False))\n",
    "print(\"Test R2_score: \", r2_score(y_test, searcher.best_estimator_.predict(X_test)))\n"
   ]
  },
  {
   "cell_type": "markdown",
   "metadata": {
    "pycharm": {
     "name": "#%% md\n"
    }
   },
   "source": [
    "## Задание 5. Сравнение методов градиентного спуска (2 балла)\n",
    "\n",
    "В этом задании вам предстоит сравнить методы градиентного спуска на подготовленных вами данных из предыдущего задания."
   ]
  },
  {
   "cell_type": "markdown",
   "metadata": {
    "pycharm": {
     "name": "#%% md\n"
    }
   },
   "source": [
    "### Задание 5.1. Подбор оптимальной длины шага (1 балл)\n",
    "\n",
    "Подберите по валидационной выборке наилучшую длину шага $\\lambda$ для каждого метода с точки зрения ошибки. Для этого сделайте перебор по логарифмической сетке. Для каждого метода посчитайте ошибку на обучающей и тестовой выборках, посчитайте качество по метрике $R^2$, сохраните количество итераций до сходимости.\n",
    "\n",
    "Все параметры кроме `lambda_` стоит выставить равным значениям по умолчанию."
   ]
  },
  {
   "cell_type": "code",
   "execution_count": 33,
   "metadata": {},
   "outputs": [
    {
     "data": {
      "text/plain": [
       "<19523x273 sparse matrix of type '<class 'numpy.float64'>'\n",
       "\twith 136661 stored elements in Compressed Sparse Row format>"
      ]
     },
     "execution_count": 33,
     "metadata": {},
     "output_type": "execute_result"
    }
   ],
   "source": [
    "X_val"
   ]
  },
  {
   "cell_type": "code",
   "execution_count": 34,
   "metadata": {},
   "outputs": [],
   "source": [
    "y_val = y_val.to_numpy(dtype=\"float64\")"
   ]
  },
  {
   "cell_type": "code",
   "execution_count": 41,
   "metadata": {
    "pycharm": {
     "name": "#%%\n"
    },
    "scrolled": false
   },
   "outputs": [
    {
     "name": "stderr",
     "output_type": "stream",
     "text": [
      "C:\\Users\\misha\\anaconda3\\lib\\site-packages\\numpy\\core\\_methods.py:178: RuntimeWarning: overflow encountered in reduce\n",
      "  ret = umr_sum(arr, axis, dtype, out, keepdims, where=where)\n",
      "C:\\Users\\misha\\AppData\\Local\\Temp/ipykernel_8268/2582264646.py:58: RuntimeWarning: overflow encountered in square\n",
      "  return np.mean((y - y_pred)**2)\n",
      "C:\\Users\\misha\\AppData\\Local\\Temp/ipykernel_8268/3423014784.py:37: RuntimeWarning: overflow encountered in square\n",
      "  if (pd.isna(step_descent_one).any()) or (np.mean(step_descent_one ** 2)) < self.tolerance:\n",
      "C:\\Users\\misha\\AppData\\Local\\Temp/ipykernel_8268/636953301.py:12: RuntimeWarning: invalid value encountered in subtract\n",
      "  self.w = w_temp - self.lr()*gradient\n",
      "C:\\Users\\misha\\AppData\\Local\\Temp/ipykernel_8268/636953301.py:12: RuntimeWarning: overflow encountered in multiply\n",
      "  self.w = w_temp - self.lr()*gradient\n"
     ]
    },
    {
     "name": "stdout",
     "output_type": "stream",
     "text": [
      "full - 0.7742636826811278 - 46 - 8605893.57442897\n"
     ]
    },
    {
     "name": "stderr",
     "output_type": "stream",
     "text": [
      "C:\\Users\\misha\\AppData\\Local\\Temp/ipykernel_8268/636953301.py:13: RuntimeWarning: invalid value encountered in subtract\n",
      "  return self.w - w_temp\n"
     ]
    },
    {
     "name": "stdout",
     "output_type": "stream",
     "text": [
      "stochastic - 0.7742636826811278 - 200 - 8155754.231914737\n"
     ]
    },
    {
     "name": "stderr",
     "output_type": "stream",
     "text": [
      "C:\\Users\\misha\\AppData\\Local\\Temp/ipykernel_8268/2257179922.py:17: RuntimeWarning: invalid value encountered in add\n",
      "  self.h = self.alpha * self.h + self.lr()*gradient\n",
      "C:\\Users\\misha\\AppData\\Local\\Temp/ipykernel_8268/2257179922.py:17: RuntimeWarning: overflow encountered in multiply\n",
      "  self.h = self.alpha * self.h + self.lr()*gradient\n"
     ]
    },
    {
     "name": "stdout",
     "output_type": "stream",
     "text": [
      "momentum - 0.7742636826811278 - 118 - 7435826.891254929\n",
      "adam - 3593.8136638046403 - 244 - 6798586.9586335365\n"
     ]
    }
   ],
   "source": [
    "max_iter = 500\n",
    "tolerance = 2\n",
    "descent = {\"full\": None, \"stochastic\": None, \"momentum\":None, \"adam\":None}\n",
    "#error_descent = {\"full\": None, \"stochastic\": None, \"momentum\":None, \"adam\":None}\n",
    "lambda_step = np.logspace(-5, 6, 10)\n",
    "best_lb = {\"full\":0.0, \"stochastic\":0.0, \"momentum\":0.0, \"adam\":0.0}\n",
    "for name_desc in descent.keys():\n",
    "    min_err = 1e10\n",
    "    best_iteration = 0\n",
    "    for lb in lambda_step:\n",
    "        descent_config = {\n",
    "            'descent_name': name_desc,\n",
    "            'kwargs': {\n",
    "                'dimension': X_val.shape[1],\n",
    "                'lambda_': lb\n",
    "                }\n",
    "            }\n",
    "        regression = LinearRegression(\n",
    "                    descent_config=descent_config,\n",
    "                    tolerance=tolerance,\n",
    "                    max_iter=max_iter)\n",
    "        regression.fit(X_val, y_val)\n",
    "        if (regression.calc_loss(X_val, y_val)) < min_err:\n",
    "            min_err = regression.calc_loss(X_val, y_val)\n",
    "            best_iteration = regression.i\n",
    "            best_lb[name_desc] = lb\n",
    "            descent[name_desc] = regression\n",
    "            \n",
    "    print(name_desc, \"-\" , best_lb[name_desc], \"-\", best_iteration, \"-\", min_err)\n",
    "    '''\n",
    "        for i in range(max_iter):\n",
    "            step_descent = descent.step(X_val, y_val)\n",
    "            if (pd.isna(step_descent).any()) or (np.mean(step_descent ** 2)) < 1e-4:\n",
    "                break;\n",
    "            iteration = i\n",
    "            best_lambda = lb\n",
    "    '''\n",
    "    '''\n",
    "        if (descent.calc_loss(X_val, y_val) < min_err):\n",
    "            min_err = descent.calc_loss(X_val, y_val)\n",
    "            best_iteration = iteration\n",
    "            best_lb[name_desc] = best_lambda\n",
    "    print(name_desc, \"-\" , best_lb, \"-\", best_iteration, \"-\", min_err)\n",
    "    '''"
   ]
  },
  {
   "cell_type": "code",
   "execution_count": 42,
   "metadata": {},
   "outputs": [
    {
     "name": "stdout",
     "output_type": "stream",
     "text": [
      "--//full//--\n",
      "\n",
      "Train MSE:  8445100.24244445\n",
      "Test MSE :  8463399.321401361\n",
      "\n",
      "Train RMSE:  2906.0454646210287\n",
      "Test RMSE :  2909.192211147514\n",
      "\n",
      "Test R2_score: 0.6592802570065668\n",
      "\n",
      "\n",
      "--//stochastic//--\n",
      "\n",
      "Train MSE:  8027101.586867528\n",
      "Test MSE :  8039958.348679419\n",
      "\n",
      "Train RMSE:  2833.2140030127493\n",
      "Test RMSE :  2835.482031097961\n",
      "\n",
      "Test R2_score: 0.6763271543488536\n",
      "\n",
      "\n",
      "--//momentum//--\n",
      "\n",
      "Train MSE:  7352080.928090314\n",
      "Test MSE :  7410541.193682363\n",
      "\n",
      "Train RMSE:  2711.47209612976\n",
      "Test RMSE :  2722.2309221817245\n",
      "\n",
      "Test R2_score: 0.7016662460237513\n",
      "\n",
      "\n",
      "--//adam//--\n",
      "\n",
      "Train MSE:  6899868.149111679\n",
      "Test MSE :  6984617.006842393\n",
      "\n",
      "Train RMSE:  2626.7600098051744\n",
      "Test RMSE :  2642.8425997100912\n",
      "\n",
      "Test R2_score: 0.7188131126625301\n",
      "\n",
      "\n"
     ]
    }
   ],
   "source": [
    "for name_desc in descent.keys():\n",
    "    print(f\"--//{name_desc}//--\\n\")\n",
    "    print(\"Train MSE: \", mean_squared_error(y_train, descent[name_desc].predict(X_train), squared=True))\n",
    "    print(\"Test MSE : \", mean_squared_error(y_test, descent[name_desc].predict(X_test), squared=True))\n",
    "    print(\"\\nTrain RMSE: \", mean_squared_error(y_train, descent[name_desc].predict(X_train), squared=False))\n",
    "    print(\"Test RMSE : \", mean_squared_error(y_test, descent[name_desc].predict(X_test), squared=False))\n",
    "    print(f\"\\nTest R2_score: {r2_score(y_test, descent[name_desc].predict(X_test))}\\n\\n\")"
   ]
  },
  {
   "cell_type": "markdown",
   "metadata": {
    "pycharm": {
     "name": "#%% md\n"
    }
   },
   "source": [
    "### Задание 5.2. Сравнение методов (1 балла) \n",
    "\n",
    "Постройте график зависимости ошибки на обучающей выборке от номера итерации (все методы на одном графике).\n",
    "\n",
    "Посмотрите на получившиеся результаты (таблички с метриками и график). Сравните методы между собой."
   ]
  },
  {
   "cell_type": "code",
   "execution_count": 49,
   "metadata": {
    "pycharm": {
     "name": "#%%\n"
    }
   },
   "outputs": [
    {
     "data": {
      "text/plain": [
       "<seaborn.axisgrid.FacetGrid at 0x276daa237c0>"
      ]
     },
     "execution_count": 49,
     "metadata": {},
     "output_type": "execute_result"
    },
    {
     "data": {
      "image/png": "[encoded data removed]",
      "text/plain": [
       "<Figure size 1499.3x1027.44 with 1 Axes>"
      ]
     },
     "metadata": {},
     "output_type": "display_data"
    }
   ],
   "source": [
    "sns.relplot(data = [descent[\"adam\"].loss_history, descent[\"momentum\"].loss_history, descent[\"full\"].loss_history, descent[\"stochastic\"].loss_history], \n",
    "                height=14.27, \n",
    "                aspect=11.7/8.27\n",
    "               )"
   ]
  },
  {
   "cell_type": "markdown",
   "metadata": {
    "pycharm": {
     "name": "#%% md\n"
    }
   },
   "source": [
    "## Задание 6. Стохастический градиентный спуск и размер батча (1 балл)\n",
    "\n",
    "В этом задании вам предстоит исследовать влияние размера батча на работу стохастического градиентного спуска. \n",
    "\n",
    "* Сделайте по несколько запусков (например, k = 10) стохастического градиентного спуска на обучающей выборке для каждого размера батча из перебираемого списка. Замерьте время в секундах и количество итераций до сходимости. Посчитайте среднее этих значений для каждого размера батча.\n",
    "* Постройте график зависимости количества шагов до сходимости от размера батча.\n",
    "* Постройте график зависимости времени до сходимости от размера батча.\n",
    "\n",
    "Посмотрите на получившиеся результаты. Какие выводы можно сделать про подбор размера батча для стохастического градиентного спуска?"
   ]
  },
  {
   "cell_type": "code",
   "execution_count": 110,
   "metadata": {
    "pycharm": {
     "name": "#%%\n"
    }
   },
   "outputs": [],
   "source": [
    "import random\n",
    "import time\n",
    "tolerance = 1\n",
    "max_iter = 1000\n",
    "\n",
    "k = 5\n",
    "batch_sizes = np.arange(5, 500, 10)\n",
    "batch_size_k = random.sample(list(batch_sizes), k)\n",
    "arr = {a:None for a in batch_size_k}\n",
    "arr_iteration = {a:None for a in batch_sizes}\n",
    "arr_time = {a:None for a in batch_sizes}\n",
    "\n",
    "for batch in batch_sizes:\n",
    "    descent_config = {\n",
    "            'descent_name': 'stochastic',\n",
    "            'kwargs': {\n",
    "                'dimension': X_val.shape[1],\n",
    "                'lambda_': best_lb[\"stochastic\"],\n",
    "                'batch_size': batch\n",
    "                }\n",
    "            }\n",
    "    regression = LinearRegression(\n",
    "                    descent_config=descent_config,\n",
    "                    tolerance=tolerance,\n",
    "                    max_iter=max_iter)\n",
    "    time_start = time.time()\n",
    "    regression.fit(X_val, y_val)\n",
    "    time_end = time.time()\n",
    "    arr_time[batch] = time_end - time_start\n",
    "    arr_iteration[batch] = regression.i\n",
    "    if batch in batch_size_k:\n",
    "        arr[batch] = regression.loss_history"
   ]
  },
  {
   "cell_type": "code",
   "execution_count": 111,
   "metadata": {
    "scrolled": false
   },
   "outputs": [
    {
     "data": {
      "image/png": "[encoded data removed]",
      "text/plain": [
       "<Figure size 1083.99x739.44 with 1 Axes>"
      ]
     },
     "metadata": {},
     "output_type": "display_data"
    }
   ],
   "source": [
    "g = sns.relplot(data = arr, height=10.27, aspect=8.7/6.27)\n",
    "g.set(yscale = \"log\", xscale = \"log\")\n",
    "plt.title(\"Зависимость RMSE от размера батча\");"
   ]
  },
  {
   "cell_type": "code",
   "execution_count": 112,
   "metadata": {},
   "outputs": [
    {
     "data": {
      "image/png": "[encoded data removed]",
      "text/plain": [
       "<Figure size 698.737x523.44 with 1 Axes>"
      ]
     },
     "metadata": {},
     "output_type": "display_data"
    }
   ],
   "source": [
    "g = sns.relplot(data = arr_iteration, height=7.27, aspect=5.7/4.27, kind = \"line\")\n",
    "plt.title(\"Зависимость количества итераций от размера батча\")\n",
    "plt.xlabel(\"Размер батча\")\n",
    "plt.ylabel(\"Кол-во итераций до сходимости\");"
   ]
  },
  {
   "cell_type": "code",
   "execution_count": 115,
   "metadata": {},
   "outputs": [
    {
     "data": {
      "image/png": "[encoded data removed]",
      "text/plain": [
       "<Figure size 698.737x523.44 with 1 Axes>"
      ]
     },
     "metadata": {},
     "output_type": "display_data"
    }
   ],
   "source": [
    "g = sns.relplot(data = arr_time, height=7.27, aspect=5.7/4.27, kind = \"line\")\n",
    "plt.title(\"Зависимость времени сходимости от размера батча\")\n",
    "plt.xlabel(\"Размер батча\")\n",
    "plt.ylabel(\"Секунды до сходимости\");"
   ]
  },
  {
   "cell_type": "markdown",
   "metadata": {
    "pycharm": {
     "name": "#%% md\n"
    }
   },
   "source": [
    "## Задание 7. Регуляризация (1 балл)\n",
    "\n",
    "В этом задании вам предстоит исследовать влияние регуляризации на работу различных методов градиентного спуска. Напомним, регуляризация - это добавка к функции потерь, которая штрафует за норму весов. Мы будем использовать l2 регуляризацию, таким образом функция потерь приобретает следующий вид:\n",
    "\n",
    "$$\n",
    "    Q(w) = \\dfrac{1}{\\ell} \\sum\\limits_{i=1}^{\\ell} (a_w(x_i) - y_i)^2 + \\dfrac{\\mu}{2} \\| w \\|^2\n",
    "$$"
   ]
  },
  {
   "cell_type": "markdown",
   "metadata": {
    "pycharm": {
     "name": "#%% md\n"
    }
   },
   "source": [
    "Допишите класс **BaseDescentReg** в файле `descents.py`.\n",
    "\n",
    "Протестируйте ваше решение в контесте.\n",
    "\n",
    "Вставьте ссылку на успешную посылку:\n",
    "\n",
    "* **BaseDescentReg**:"
   ]
  },
  {
   "cell_type": "markdown",
   "metadata": {
    "pycharm": {
     "name": "#%% md\n"
    }
   },
   "source": [
    "Найдите лучшие параметры обучения с регуляризацией аналогично 5 заданию. Будем подбирать длину шага $\\lambda$ (`lambda_`) и коэффициент регуляризации $\\mu$ (`mu`).\n",
    "\n",
    "Сравните для каждого метода результаты с регуляризацией и без регуляризации (нужно опять сохранить ошибку и качество по метрике $R^2$ на обучающей и тестовой выборках и количество итераций до сходимости).\n",
    "\n",
    "Постройте для каждого метода график со значениями функции потерь MSE с регуляризацией и без регуляризации (всего должно получиться 4 графика).\n",
    "\n",
    "Посмотрите на получившиеся результаты. Какие можно сделать выводы, как регуляризация влияет на сходимость? Как изменилось качество на обучающей выборке? На тестовой? Чем вы можете объяснить это?"
   ]
  },
  {
   "cell_type": "code",
   "execution_count": 61,
   "metadata": {
    "pycharm": {
     "name": "#%%\n"
    }
   },
   "outputs": [],
   "source": [
    "# YOUR CODE:"
   ]
  },
  {
   "cell_type": "markdown",
   "metadata": {
    "pycharm": {
     "name": "#%% md\n"
    }
   },
   "source": [
    "`### ваше решение тут ###`"
   ]
  },
  {
   "cell_type": "markdown",
   "metadata": {
    "pycharm": {
     "name": "#%% md\n"
    }
   },
   "source": [
    "## Задание 8. Альтернативная функция потерь (1 балл)\n",
    "\n",
    "В этом задании вам предстоит использовать другую функцию потерь для нашей задачи регрессии. В качестве функции потерь мы выбрали **Log-Cosh**:\n",
    "\n",
    "$$\n",
    "    L(y, a)\n",
    "    =\n",
    "    \\log\\left(\\cosh(a - y)\\right).\n",
    "$$"
   ]
  },
  {
   "cell_type": "markdown",
   "metadata": {
    "pycharm": {
     "name": "#%% md\n"
    }
   },
   "source": [
    "Самостоятельно продифференцируйте данную функцию потерь чтобы найти её градиент:\n",
    "\n",
    "`### ваше решение тут ###`"
   ]
  },
  {
   "cell_type": "markdown",
   "metadata": {
    "pycharm": {
     "name": "#%% md\n"
    }
   },
   "source": [
    "Программно реализуйте градиентный спуск с данной функцией потерь в файле `descents.py`, обучите все четыре метода (без регуляризации) аналогично 5 заданию, сравните их качество с четырьмя методами из 5 задания.\n",
    "\n",
    "Пример того, как можно запрограммировать использование нескольких функций потерь внутри одного класса градиентного спуска:\n",
    "\n",
    "\n",
    "```python\n",
    "from enum import auto\n",
    "from enum import Enum\n",
    "\n",
    "import numpy as np\n",
    "\n",
    "class LossFunction(Enum):\n",
    "    MSE = auto()\n",
    "    MAE = auto()\n",
    "    LogCosh = auto()\n",
    "    Huber = auto()\n",
    "\n",
    "...\n",
    "class BaseDescent:\n",
    "    def __init__(self, loss_function: LossFunction = LossFunction.MSE):\n",
    "        self.loss_function: LossFunction = loss_function\n",
    "\n",
    "    def calc_gradient(self, x: np.ndarray, y: np.ndarray) -> np.ndarray:\n",
    "        if self.loss_function is LossFunction.MSE:\n",
    "            return ...\n",
    "        elif self.loss_function is LossFunction.LogCosh:\n",
    "            return ...\n",
    "...\n",
    "\n",
    "```"
   ]
  },
  {
   "cell_type": "code",
   "execution_count": 62,
   "metadata": {
    "pycharm": {
     "name": "#%%\n"
    }
   },
   "outputs": [],
   "source": [
    "# YOUR CODE:"
   ]
  },
  {
   "cell_type": "markdown",
   "metadata": {
    "pycharm": {
     "name": "#%% md\n"
    }
   },
   "source": [
    "### Кулинарно-социализационный бонус. (0.5 балла).\n",
    "\n",
    "Как мы знаем, осень прекрасная пора, время пробовать новое и делиться теплом с друзьями и близкими. Выберите рецепт, который соответствует вашему настроению, приготовьте выбранное блюдо и угостите хотя бы одного человека им. Кратко опишите ваши впечатления, прикрепите рецепт и фотографии блюда и довольного гостя."
   ]
  },
  {
   "cell_type": "markdown",
   "metadata": {
    "pycharm": {
     "name": "#%% md\n"
    }
   },
   "source": [
    "`### ваш кулинарный опыт тут ###`"
   ]
  },
  {
   "cell_type": "markdown",
   "metadata": {
    "pycharm": {
     "name": "#%% md\n"
    }
   },
   "source": [
    "### Бонус 1. Другие методы градиентного спуска (1 балл).\n",
    "\n",
    "По желанию выберите метод градиентного спуска из следующего списка и самостоятельно реализуйте его в файле `descents.py`. Обучите линейную регрессию с помощью этого метода, сравните с методами из основной части домашнего задания.\n",
    "\n",
    "`AdaMax` (вариация Adam основанная на $l_{\\infty}$), `Nadam` (вариация Adam совмещенная с методом импульса Нестерова), `AMSGrad` (ещё одна вариация Adam)."
   ]
  },
  {
   "cell_type": "code",
   "execution_count": 63,
   "metadata": {
    "pycharm": {
     "name": "#%%\n"
    }
   },
   "outputs": [],
   "source": [
    "# YOUR CODE:"
   ]
  },
  {
   "cell_type": "markdown",
   "metadata": {
    "pycharm": {
     "name": "#%% md\n"
    }
   },
   "source": [
    "### Бонус 2. Другие функции потерь (1 балл).\n",
    "\n",
    "Аналогично 8 заданию реализуйте две функции потерь - **MAE** и **Huber**."
   ]
  },
  {
   "cell_type": "markdown",
   "metadata": {
    "pycharm": {
     "name": "#%% md\n"
    }
   },
   "source": [
    "Самостоятельно продифференцируйте данные функции потерь, чтобы найти их градиенты:\n",
    "\n",
    "`### ваше решение тут ###`"
   ]
  },
  {
   "cell_type": "markdown",
   "metadata": {
    "pycharm": {
     "name": "#%% md\n"
    }
   },
   "source": [
    "Программно реализуйте градиентный спуск с данными функциями потерь в файле `descents.py`, обучите все четыре метода (без регуляризации) аналогично 5 заданию, сравните их качество с четырьмя методами из 5 задания.\n",
    "\n",
    "Сравните между собой *для каждого метода отдельно* качество для разных функций потерь. Какая оказалась лучше? Как вы думаете почему?"
   ]
  },
  {
   "cell_type": "code",
   "execution_count": 64,
   "metadata": {
    "pycharm": {
     "name": "#%%\n"
    }
   },
   "outputs": [],
   "source": [
    "# YOUR CODE:"
   ]
  }
 ],
 "metadata": {
  "kernelspec": {
   "display_name": "Python 3 (ipykernel)",
   "language": "python",
   "name": "python3"
  },
  "language_info": {
   "codemirror_mode": {
    "name": "ipython",
    "version": 3
   },
   "file_extension": ".py",
   "mimetype": "text/x-python",
   "name": "python",
   "nbconvert_exporter": "python",
   "pygments_lexer": "ipython3",
   "version": "3.9.7"
  }
 },
 "nbformat": 4,
 "nbformat_minor": 4
}
